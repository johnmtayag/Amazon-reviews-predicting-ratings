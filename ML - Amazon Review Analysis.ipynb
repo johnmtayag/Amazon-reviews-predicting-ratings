{
 "cells": [
  {
   "cell_type": "markdown",
   "id": "95dff100",
   "metadata": {
    "tags": []
   },
   "source": [
    "# Analyzing Customer Reviews from Amazon\n",
    "\n",
    "### Analysis of the data and Rating prediction\n",
    "\n",
    "The purpose of this project is to analyze customer reviews of different headphones listings on Amazon. The reviews will be split into \"good\" and \"bad\" sets, and the review texts will be processed into tokens consisting of individual words. These will form the \"good\" and \"bad\" review corpuses that will be analyzed to determine the most important words in either good and bad review sets. They will also be used to predict if a review will be \"good\" or \"bad.\"\n",
    "\n",
    "This analysis has many real-world applications. While customers can manually include ratings for the product in their reviews, this rating is only an overall statement"
   ]
  },
  {
   "cell_type": "code",
   "execution_count": 1,
   "id": "acccdaf6-0c42-44cb-9273-396e8d2f893c",
   "metadata": {
    "tags": []
   },
   "outputs": [
    {
     "data": {
      "text/html": [
       "<dl>\n",
       "\t<dt>$platform</dt>\n",
       "\t\t<dd>'x86_64-w64-mingw32'</dd>\n",
       "\t<dt>$arch</dt>\n",
       "\t\t<dd>'x86_64'</dd>\n",
       "\t<dt>$os</dt>\n",
       "\t\t<dd>'mingw32'</dd>\n",
       "\t<dt>$system</dt>\n",
       "\t\t<dd>'x86_64, mingw32'</dd>\n",
       "\t<dt>$status</dt>\n",
       "\t\t<dd>''</dd>\n",
       "\t<dt>$major</dt>\n",
       "\t\t<dd>'3'</dd>\n",
       "\t<dt>$minor</dt>\n",
       "\t\t<dd>'6.1'</dd>\n",
       "\t<dt>$year</dt>\n",
       "\t\t<dd>'2019'</dd>\n",
       "\t<dt>$month</dt>\n",
       "\t\t<dd>'07'</dd>\n",
       "\t<dt>$day</dt>\n",
       "\t\t<dd>'05'</dd>\n",
       "\t<dt>$`svn rev`</dt>\n",
       "\t\t<dd>'76782'</dd>\n",
       "\t<dt>$language</dt>\n",
       "\t\t<dd>'R'</dd>\n",
       "\t<dt>$version.string</dt>\n",
       "\t\t<dd>'R version 3.6.1 (2019-07-05)'</dd>\n",
       "\t<dt>$nickname</dt>\n",
       "\t\t<dd>'Action of the Toes'</dd>\n",
       "</dl>\n"
      ],
      "text/latex": [
       "\\begin{description}\n",
       "\\item[\\$platform] 'x86\\_64-w64-mingw32'\n",
       "\\item[\\$arch] 'x86\\_64'\n",
       "\\item[\\$os] 'mingw32'\n",
       "\\item[\\$system] 'x86\\_64, mingw32'\n",
       "\\item[\\$status] ''\n",
       "\\item[\\$major] '3'\n",
       "\\item[\\$minor] '6.1'\n",
       "\\item[\\$year] '2019'\n",
       "\\item[\\$month] '07'\n",
       "\\item[\\$day] '05'\n",
       "\\item[\\$`svn rev`] '76782'\n",
       "\\item[\\$language] 'R'\n",
       "\\item[\\$version.string] 'R version 3.6.1 (2019-07-05)'\n",
       "\\item[\\$nickname] 'Action of the Toes'\n",
       "\\end{description}\n"
      ],
      "text/markdown": [
       "$platform\n",
       ":   'x86_64-w64-mingw32'\n",
       "$arch\n",
       ":   'x86_64'\n",
       "$os\n",
       ":   'mingw32'\n",
       "$system\n",
       ":   'x86_64, mingw32'\n",
       "$status\n",
       ":   ''\n",
       "$major\n",
       ":   '3'\n",
       "$minor\n",
       ":   '6.1'\n",
       "$year\n",
       ":   '2019'\n",
       "$month\n",
       ":   '07'\n",
       "$day\n",
       ":   '05'\n",
       "$`svn rev`\n",
       ":   '76782'\n",
       "$language\n",
       ":   'R'\n",
       "$version.string\n",
       ":   'R version 3.6.1 (2019-07-05)'\n",
       "$nickname\n",
       ":   'Action of the Toes'\n",
       "\n",
       "\n"
      ],
      "text/plain": [
       "$platform\n",
       "[1] \"x86_64-w64-mingw32\"\n",
       "\n",
       "$arch\n",
       "[1] \"x86_64\"\n",
       "\n",
       "$os\n",
       "[1] \"mingw32\"\n",
       "\n",
       "$system\n",
       "[1] \"x86_64, mingw32\"\n",
       "\n",
       "$status\n",
       "[1] \"\"\n",
       "\n",
       "$major\n",
       "[1] \"3\"\n",
       "\n",
       "$minor\n",
       "[1] \"6.1\"\n",
       "\n",
       "$year\n",
       "[1] \"2019\"\n",
       "\n",
       "$month\n",
       "[1] \"07\"\n",
       "\n",
       "$day\n",
       "[1] \"05\"\n",
       "\n",
       "$`svn rev`\n",
       "[1] \"76782\"\n",
       "\n",
       "$language\n",
       "[1] \"R\"\n",
       "\n",
       "$version.string\n",
       "[1] \"R version 3.6.1 (2019-07-05)\"\n",
       "\n",
       "$nickname\n",
       "[1] \"Action of the Toes\"\n"
      ]
     },
     "metadata": {},
     "output_type": "display_data"
    }
   ],
   "source": [
    "R.Version()"
   ]
  },
  {
   "cell_type": "code",
   "execution_count": 2,
   "id": "9186ca6b",
   "metadata": {
    "scrolled": true,
    "tags": []
   },
   "outputs": [
    {
     "name": "stdout",
     "output_type": "stream",
     "text": [
      "\n",
      "  There is a binary version available but the source version is later:\n",
      "   binary source needs_compilation\n",
      "tm  0.7-8  0.7-9              TRUE\n",
      "\n",
      "  Binaries will be installed\n",
      "package 'tm' successfully unpacked and MD5 sums checked\n"
     ]
    },
    {
     "name": "stderr",
     "output_type": "stream",
     "text": [
      "Warning message:\n",
      "\"cannot remove prior installation of package 'tm'\"Warning message in file.copy(savedcopy, lib, recursive = TRUE):\n",
      "\"problem copying C:\\Users\\johnt\\anaconda3\\Lib\\R\\library\\00LOCK\\tm\\libs\\x64\\tm.dll to C:\\Users\\johnt\\anaconda3\\Lib\\R\\library\\tm\\libs\\x64\\tm.dll: Permission denied\"Warning message:\n",
      "\"restored 'tm'\""
     ]
    },
    {
     "name": "stdout",
     "output_type": "stream",
     "text": [
      "\n",
      "The downloaded binary packages are in\n",
      "\tC:\\Users\\johnt\\AppData\\Local\\Temp\\Rtmpm8K4VS\\downloaded_packages\n",
      "package 'SnowballC' successfully unpacked and MD5 sums checked\n"
     ]
    },
    {
     "name": "stderr",
     "output_type": "stream",
     "text": [
      "Warning message:\n",
      "\"cannot remove prior installation of package 'SnowballC'\"Warning message in file.copy(savedcopy, lib, recursive = TRUE):\n",
      "\"problem copying C:\\Users\\johnt\\anaconda3\\Lib\\R\\library\\00LOCK\\SnowballC\\libs\\x64\\SnowballC.dll to C:\\Users\\johnt\\anaconda3\\Lib\\R\\library\\SnowballC\\libs\\x64\\SnowballC.dll: Permission denied\"Warning message:\n",
      "\"restored 'SnowballC'\""
     ]
    },
    {
     "name": "stdout",
     "output_type": "stream",
     "text": [
      "\n",
      "The downloaded binary packages are in\n",
      "\tC:\\Users\\johnt\\AppData\\Local\\Temp\\Rtmpm8K4VS\\downloaded_packages\n",
      "\n",
      "  There is a binary version available (and will be installed) but the\n",
      "  source version is later:\n",
      "      binary source\n",
      "vctrs  0.3.8  0.4.2\n",
      "\n",
      "package 'vctrs' successfully unpacked and MD5 sums checked\n"
     ]
    },
    {
     "name": "stderr",
     "output_type": "stream",
     "text": [
      "Warning message:\n",
      "\"cannot remove prior installation of package 'vctrs'\"Warning message in file.copy(savedcopy, lib, recursive = TRUE):\n",
      "\"problem copying C:\\Users\\johnt\\anaconda3\\Lib\\R\\library\\00LOCK\\vctrs\\libs\\x64\\vctrs.dll to C:\\Users\\johnt\\anaconda3\\Lib\\R\\library\\vctrs\\libs\\x64\\vctrs.dll: Permission denied\"Warning message:\n",
      "\"restored 'vctrs'\""
     ]
    },
    {
     "name": "stdout",
     "output_type": "stream",
     "text": [
      "\n",
      "The downloaded binary packages are in\n",
      "\tC:\\Users\\johnt\\AppData\\Local\\Temp\\Rtmpm8K4VS\\downloaded_packages\n",
      "\n",
      "  There is a binary version available (and will be installed) but the\n",
      "  source version is later:\n",
      "        binary source\n",
      "ggplot2  3.3.3  3.3.6\n",
      "\n",
      "package 'ggplot2' successfully unpacked and MD5 sums checked\n",
      "\n",
      "The downloaded binary packages are in\n",
      "\tC:\\Users\\johnt\\AppData\\Local\\Temp\\Rtmpm8K4VS\\downloaded_packages\n",
      "package 'wordcloud' successfully unpacked and MD5 sums checked\n"
     ]
    },
    {
     "name": "stderr",
     "output_type": "stream",
     "text": [
      "Warning message:\n",
      "\"cannot remove prior installation of package 'wordcloud'\"Warning message in file.copy(savedcopy, lib, recursive = TRUE):\n",
      "\"problem copying C:\\Users\\johnt\\anaconda3\\Lib\\R\\library\\00LOCK\\wordcloud\\libs\\x64\\wordcloud.dll to C:\\Users\\johnt\\anaconda3\\Lib\\R\\library\\wordcloud\\libs\\x64\\wordcloud.dll: Permission denied\"Warning message:\n",
      "\"restored 'wordcloud'\""
     ]
    },
    {
     "name": "stdout",
     "output_type": "stream",
     "text": [
      "\n",
      "The downloaded binary packages are in\n",
      "\tC:\\Users\\johnt\\AppData\\Local\\Temp\\Rtmpm8K4VS\\downloaded_packages\n",
      "\n",
      "  There is a binary version available but the source version is later:\n",
      "             binary source needs_compilation\n",
      "RColorBrewer  1.1-2  1.1-3             FALSE\n",
      "\n"
     ]
    },
    {
     "name": "stderr",
     "output_type": "stream",
     "text": [
      "installing the source package 'RColorBrewer'\n",
      "\n"
     ]
    },
    {
     "name": "stdout",
     "output_type": "stream",
     "text": [
      "\n",
      "  There is a binary version available but the source version is later:\n",
      "      binary source needs_compilation\n",
      "e1071  1.7-6 1.7-11              TRUE\n",
      "\n",
      "  Binaries will be installed\n",
      "package 'e1071' successfully unpacked and MD5 sums checked\n"
     ]
    },
    {
     "name": "stderr",
     "output_type": "stream",
     "text": [
      "Warning message:\n",
      "\"cannot remove prior installation of package 'e1071'\"Warning message in file.copy(savedcopy, lib, recursive = TRUE):\n",
      "\"problem copying C:\\Users\\johnt\\anaconda3\\Lib\\R\\library\\00LOCK\\e1071\\libs\\x64\\e1071.dll to C:\\Users\\johnt\\anaconda3\\Lib\\R\\library\\e1071\\libs\\x64\\e1071.dll: Permission denied\"Warning message:\n",
      "\"restored 'e1071'\""
     ]
    },
    {
     "name": "stdout",
     "output_type": "stream",
     "text": [
      "\n",
      "The downloaded binary packages are in\n",
      "\tC:\\Users\\johnt\\AppData\\Local\\Temp\\Rtmpm8K4VS\\downloaded_packages\n",
      "\n",
      "  There is a binary version available (and will be installed) but the\n",
      "  source version is later:\n",
      "      binary source\n",
      "dplyr  1.0.6 1.0.10\n",
      "\n",
      "package 'dplyr' successfully unpacked and MD5 sums checked\n"
     ]
    },
    {
     "name": "stderr",
     "output_type": "stream",
     "text": [
      "Warning message:\n",
      "\"cannot remove prior installation of package 'dplyr'\"Warning message in file.copy(savedcopy, lib, recursive = TRUE):\n",
      "\"problem copying C:\\Users\\johnt\\anaconda3\\Lib\\R\\library\\00LOCK\\dplyr\\libs\\x64\\dplyr.dll to C:\\Users\\johnt\\anaconda3\\Lib\\R\\library\\dplyr\\libs\\x64\\dplyr.dll: Permission denied\"Warning message:\n",
      "\"restored 'dplyr'\""
     ]
    },
    {
     "name": "stdout",
     "output_type": "stream",
     "text": [
      "\n",
      "The downloaded binary packages are in\n",
      "\tC:\\Users\\johnt\\AppData\\Local\\Temp\\Rtmpm8K4VS\\downloaded_packages\n"
     ]
    }
   ],
   "source": [
    "### Installation of packages\n",
    "\n",
    "# tm: Text mining packge\n",
    "# SnowballC: Stopwords dictionary\n",
    "# ggplot2: Plotting data\n",
    "# wordcloud: Making word clouds from the data\n",
    "# RColorBrewer: Additional color palettes for plots\n",
    "# e1071: SVM modeling\n",
    "\n",
    "install.packages('tm')\n",
    "install.packages('SnowballC')\n",
    "install.packages(\"vctrs\", type = \"binary\", dependencies = TRUE, repos = \"https://cloud.r-project.org\")\n",
    "install.packages(\"ggplot2\",\n",
    "                 type = \"binary\",\n",
    "                 dependencies = TRUE,\n",
    "                 repos = \"https://cloud.r-project.org\")\n",
    "install.packages('wordcloud')\n",
    "install.packages('RColorBrewer')\n",
    "install.packages('e1071')\n",
    "\n"
   ]
  },
  {
   "cell_type": "code",
   "execution_count": 3,
   "id": "b98ab5c4-c5b4-4bc9-8d61-3e9e92e2059a",
   "metadata": {
    "tags": []
   },
   "outputs": [
    {
     "name": "stderr",
     "output_type": "stream",
     "text": [
      "Warning message:\n",
      "\"package 'tm' was built under R version 3.6.3\"Loading required package: NLP\n",
      "Warning message:\n",
      "\"package 'NLP' was built under R version 3.6.3\"Warning message:\n",
      "\"package 'SnowballC' was built under R version 3.6.3\"Warning message:\n",
      "\"package 'ggplot2' was built under R version 3.6.3\"\n",
      "Attaching package: 'ggplot2'\n",
      "\n",
      "The following object is masked from 'package:NLP':\n",
      "\n",
      "    annotate\n",
      "\n",
      "Warning message:\n",
      "\"package 'wordcloud' was built under R version 3.6.3\"Loading required package: RColorBrewer\n",
      "Warning message:\n",
      "\"package 'e1071' was built under R version 3.6.3\"Warning message:\n",
      "\"package 'dplyr' was built under R version 3.6.3\"\n",
      "Attaching package: 'dplyr'\n",
      "\n",
      "The following objects are masked from 'package:stats':\n",
      "\n",
      "    filter, lag\n",
      "\n",
      "The following objects are masked from 'package:base':\n",
      "\n",
      "    intersect, setdiff, setequal, union\n",
      "\n"
     ]
    }
   ],
   "source": [
    "library(tm)\n",
    "library(SnowballC)\n",
    "library(ggplot2)\n",
    "library(wordcloud)\n",
    "library(RColorBrewer)\n",
    "library(e1071)"
   ]
  },
  {
   "cell_type": "code",
   "execution_count": 4,
   "id": "14982b40",
   "metadata": {
    "scrolled": true,
    "tags": []
   },
   "outputs": [
    {
     "name": "stdout",
     "output_type": "stream",
     "text": [
      "Number of columns: 4 \n",
      "Number of rows: 14337"
     ]
    },
    {
     "data": {
      "text/html": [
       "<table>\n",
       "<thead><tr><th scope=col>ReviewTitle</th><th scope=col>ReviewBody</th><th scope=col>ReviewStar</th><th scope=col>Product</th></tr></thead>\n",
       "<tbody>\n",
       "\t<tr><td>Honest review of an edm music lover\n",
       "                                                                                                                                                                                                                                                                                                                                                                                                                                                                </td><td>No doubt it has a great bass and to a great extent noise cancellation and decent sound clarity and mindblowing battery but the following dissapointed me though i tried a lot to adjust.1.Bluetooth range not more than 10m2. Pain in ear due the conical buds(can be removed)3. Wires are a bit long which makes it odd in front.4. No pouch provided.5. Worst part is very low quality and distoring mic. Other person keeps complaining about my voice.\n",
       "                                         </td><td>3                                                                                                                                                                                                                                                                                                                                                                                                                                                                                                    </td><td>boAt Rockerz 255                                                                                                                                                                                                                                                                                                                                                                                                                                                                                     </td></tr>\n",
       "\t<tr><td><span style=white-space:pre-wrap>Unreliable earphones with high cost\n",
       "                      </span>                                                                                                                                                                                                                                                                                                                                                                                                                                                </td><td><span style=white-space:pre-wrap>This  earphones are unreliable, i bought it before 15 days meanwhile right side ear buds got cracked automatically and it got divided in two parts, and sound quality is also not that much good but ok, one more thing bass is not good as it is a boat earphones.Guys,Also for the proof i have attached picsPlease see and think before buying&lt;U+200B&gt; this unreliable product.Thanks.\n",
       "                                                                                                          </span></td><td>1                                                                                                                                                                                                                                                                                                                                                                                                                                                                                                                                                  </td><td>boAt Rockerz 255                                                                                                                                                                                                                                                                                                                                                                                                                                                                                                                                   </td></tr>\n",
       "\t<tr><td>Really good and durable.\n",
       "                                                                                                                                                                                                                                                                                                                                                                                                                                                                           </td><td>i bought itfor 999,I purchased it second time, gifted first one to brother. This is really good.Sound quality is really good.You can connect 2 devices at a time.I connect laptop and mobile both.when listening muaic on Lappy, if u get a call, it switches to mobile,this switch between device is not good but again in this price its awesome.Battery stand by is 36 hours for me, and i have used it continously for 8 hours in one go. So Battery life is pretty awesome.Comfortable on ear.\n",
       "</td><td>4                                                                                                                                                                                                                                                                                                                                                                                                                                                                                                    </td><td>boAt Rockerz 255                                                                                                                                                                                                                                                                                                                                                                                                                                                                                     </td></tr>\n",
       "\t<tr><td>stopped working in just 14 days\n",
       "                                                                                                                                                                                                                                                                                                                                                                                                                                                                    </td><td>Its sound quality is adorable. overall it was good but just for 2 weeks after that it stopped working and since then it never powered on again. I am claiming for warrenty and it is still undergoing.\n",
       "                                                                                                                                                                                                                                                                                             </td><td>1                                                                                                                                                                                                                                                                                                                                                                                                                                                                                                    </td><td>boAt Rockerz 255                                                                                                                                                                                                                                                                                                                                                                                                                                                                                     </td></tr>\n",
       "\t<tr><td>Just Awesome Wireless Headphone under 1000...&lt;U+0001F609&gt;\n",
       "                                                                                                                                                                                                                                                                                                                                                                                                                                                                                      </td><td><span style=white-space:pre-wrap>Its Awesome... Good sound quality &amp; 8-9 hrs battery life... Just waww look... &lt;U+0001F609&gt; I brought just 999 rupees...But Amazon's Packageing system is Very bad... Very poor packaging... Flipcart's packaging system is much better than Amazon...\n",
       "                                                                                                                                                                                                                                              </span></td><td>5                                                                                                                                                                                                                                                                                                                                                                                                                                                                                                                                                      </td><td>boAt Rockerz 255                                                                                                                                                                                                                                                                                                                                                                                                                                                                                                                                       </td></tr>\n",
       "\t<tr><td>Charging port not working\n",
       "                                                                                                                                                                                                                                                                                                                                                                                                                                                                          </td><td>After 11 days, the charging port isn't working and now I can't even return it. Wat to do ?? I know there is one year warranty but it is only been 11 days. C'mon boat, please send me new one.\n",
       "                                                                                                                                                                                                                                                                                                     </td><td>1                                                                                                                                                                                                                                                                                                                                                                                                                                                                                                    </td><td>boAt Rockerz 255                                                                                                                                                                                                                                                                                                                                                                                                                                                                                     </td></tr>\n",
       "</tbody>\n",
       "</table>\n"
      ],
      "text/latex": [
       "\\begin{tabular}{r|llll}\n",
       " ReviewTitle & ReviewBody & ReviewStar & Product\\\\\n",
       "\\hline\n",
       "\t Honest review of an edm music lover\n",
       "                                                                                                                                                                                                                                                                                                                                                                                                                                                                 & No doubt it has a great bass and to a great extent noise cancellation and decent sound clarity and mindblowing battery but the following dissapointed me though i tried a lot to adjust.1.Bluetooth range not more than 10m2. Pain in ear due the conical buds(can be removed)3. Wires are a bit long which makes it odd in front.4. No pouch provided.5. Worst part is very low quality and distoring mic. Other person keeps complaining about my voice.\n",
       "                                          & 3                                                                                                                                                                                                                                                                                                                                                                                                                                                                                                     & boAt Rockerz 255                                                                                                                                                                                                                                                                                                                                                                                                                                                                                     \\\\\n",
       "\t Unreliable earphones with high cost\n",
       "                                                                                                                                                                                                                                                                                                                                                                                                                                                                 & This  earphones are unreliable, i bought it before 15 days meanwhile right side ear buds got cracked automatically and it got divided in two parts, and sound quality is also not that much good but ok, one more thing bass is not good as it is a boat earphones.Guys,Also for the proof i have attached picsPlease see and think before buying<U+200B> this unreliable product.Thanks.\n",
       "                                                                                                           & 1                                                                                                                                                                                                                                                                                                                                                                                                                                                                                                     & boAt Rockerz 255                                                                                                                                                                                                                                                                                                                                                                                                                                                                                     \\\\\n",
       "\t Really good and durable.\n",
       "                                                                                                                                                                                                                                                                                                                                                                                                                                                                            & i bought itfor 999,I purchased it second time, gifted first one to brother. This is really good.Sound quality is really good.You can connect 2 devices at a time.I connect laptop and mobile both.when listening muaic on Lappy, if u get a call, it switches to mobile,this switch between device is not good but again in this price its awesome.Battery stand by is 36 hours for me, and i have used it continously for 8 hours in one go. So Battery life is pretty awesome.Comfortable on ear.\n",
       " & 4                                                                                                                                                                                                                                                                                                                                                                                                                                                                                                     & boAt Rockerz 255                                                                                                                                                                                                                                                                                                                                                                                                                                                                                     \\\\\n",
       "\t stopped working in just 14 days\n",
       "                                                                                                                                                                                                                                                                                                                                                                                                                                                                     & Its sound quality is adorable. overall it was good but just for 2 weeks after that it stopped working and since then it never powered on again. I am claiming for warrenty and it is still undergoing.\n",
       "                                                                                                                                                                                                                                                                                              & 1                                                                                                                                                                                                                                                                                                                                                                                                                                                                                                     & boAt Rockerz 255                                                                                                                                                                                                                                                                                                                                                                                                                                                                                     \\\\\n",
       "\t Just Awesome Wireless Headphone under 1000...<U+0001F609>\n",
       "                                                                                                                                                                                                                                                                                                                                                                                                                                             & Its Awesome... Good sound quality \\& 8-9 hrs battery life... Just waww look... <U+0001F609> I brought just 999 rupees...But Amazon's Packageing system is Very bad... Very poor packaging... Flipcart's packaging system is much better than Amazon...\n",
       "                                                                                                                                                                                                                                               & 5                                                                                                                                                                                                                                                                                                                                                                                                                                                                                                       & boAt Rockerz 255                                                                                                                                                                                                                                                                                                                                                                                                                                                                                       \\\\\n",
       "\t Charging port not working\n",
       "                                                                                                                                                                                                                                                                                                                                                                                                                                                                           & After 11 days, the charging port isn't working and now I can't even return it. Wat to do ?? I know there is one year warranty but it is only been 11 days. C'mon boat, please send me new one.\n",
       "                                                                                                                                                                                                                                                                                                      & 1                                                                                                                                                                                                                                                                                                                                                                                                                                                                                                     & boAt Rockerz 255                                                                                                                                                                                                                                                                                                                                                                                                                                                                                     \\\\\n",
       "\\end{tabular}\n"
      ],
      "text/markdown": [
       "\n",
       "| ReviewTitle | ReviewBody | ReviewStar | Product |\n",
       "|---|---|---|---|\n",
       "| Honest review of an edm music lover\n",
       "                                                                                                                                                                                                                                                                                                                                                                                                                                                                 | No doubt it has a great bass and to a great extent noise cancellation and decent sound clarity and mindblowing battery but the following dissapointed me though i tried a lot to adjust.1.Bluetooth range not more than 10m2. Pain in ear due the conical buds(can be removed)3. Wires are a bit long which makes it odd in front.4. No pouch provided.5. Worst part is very low quality and distoring mic. Other person keeps complaining about my voice.\n",
       "                                          | 3                                                                                                                                                                                                                                                                                                                                                                                                                                                                                                     | boAt Rockerz 255                                                                                                                                                                                                                                                                                                                                                                                                                                                                                      |\n",
       "| Unreliable earphones with high cost\n",
       "                                                                                                                                                                                                                                                                                                                                                                                                                                                                 | This  earphones are unreliable, i bought it before 15 days meanwhile right side ear buds got cracked automatically and it got divided in two parts, and sound quality is also not that much good but ok, one more thing bass is not good as it is a boat earphones.Guys,Also for the proof i have attached picsPlease see and think before buying<U+200B> this unreliable product.Thanks.\n",
       "                                                                                                           | 1                                                                                                                                                                                                                                                                                                                                                                                                                                                                                                     | boAt Rockerz 255                                                                                                                                                                                                                                                                                                                                                                                                                                                                                      |\n",
       "| Really good and durable.\n",
       "                                                                                                                                                                                                                                                                                                                                                                                                                                                                            | i bought itfor 999,I purchased it second time, gifted first one to brother. This is really good.Sound quality is really good.You can connect 2 devices at a time.I connect laptop and mobile both.when listening muaic on Lappy, if u get a call, it switches to mobile,this switch between device is not good but again in this price its awesome.Battery stand by is 36 hours for me, and i have used it continously for 8 hours in one go. So Battery life is pretty awesome.Comfortable on ear.\n",
       " | 4                                                                                                                                                                                                                                                                                                                                                                                                                                                                                                     | boAt Rockerz 255                                                                                                                                                                                                                                                                                                                                                                                                                                                                                      |\n",
       "| stopped working in just 14 days\n",
       "                                                                                                                                                                                                                                                                                                                                                                                                                                                                     | Its sound quality is adorable. overall it was good but just for 2 weeks after that it stopped working and since then it never powered on again. I am claiming for warrenty and it is still undergoing.\n",
       "                                                                                                                                                                                                                                                                                              | 1                                                                                                                                                                                                                                                                                                                                                                                                                                                                                                     | boAt Rockerz 255                                                                                                                                                                                                                                                                                                                                                                                                                                                                                      |\n",
       "| Just Awesome Wireless Headphone under 1000...<U+0001F609>\n",
       "                                                                                                                                                                                                                                                                                                                                                                                                                                           | Its Awesome... Good sound quality & 8-9 hrs battery life... Just waww look... <U+0001F609> I brought just 999 rupees...But Amazon's Packageing system is Very bad... Very poor packaging... Flipcart's packaging system is much better than Amazon...\n",
       "                                                                                                                                                                                                                                               | 5                                                                                                                                                                                                                                                                                                                                                                                                                                                                                                     | boAt Rockerz 255                                                                                                                                                                                                                                                                                                                                                                                                                                                                                      |\n",
       "| Charging port not working\n",
       "                                                                                                                                                                                                                                                                                                                                                                                                                                                                           | After 11 days, the charging port isn't working and now I can't even return it. Wat to do ?? I know there is one year warranty but it is only been 11 days. C'mon boat, please send me new one.\n",
       "                                                                                                                                                                                                                                                                                                      | 1                                                                                                                                                                                                                                                                                                                                                                                                                                                                                                     | boAt Rockerz 255                                                                                                                                                                                                                                                                                                                                                                                                                                                                                      |\n",
       "\n"
      ],
      "text/plain": [
       "  ReviewTitle                                                \n",
       "1 Honest review of an edm music lover\\n                      \n",
       "2 Unreliable earphones with high cost\\n                      \n",
       "3 Really good and durable.\\n                                 \n",
       "4 stopped working in just 14 days\\n                          \n",
       "5 Just Awesome Wireless Headphone under 1000...<U+0001F609>\\n\n",
       "6 Charging port not working\\n                                \n",
       "  ReviewBody                                                                                                                                                                                                                                                                                                                                                                                                                                                                                           \n",
       "1 No doubt it has a great bass and to a great extent noise cancellation and decent sound clarity and mindblowing battery but the following dissapointed me though i tried a lot to adjust.1.Bluetooth range not more than 10m2. Pain in ear due the conical buds(can be removed)3. Wires are a bit long which makes it odd in front.4. No pouch provided.5. Worst part is very low quality and distoring mic. Other person keeps complaining about my voice.\\n                                         \n",
       "2 This  earphones are unreliable, i bought it before 15 days meanwhile right side ear buds got cracked automatically and it got divided in two parts, and sound quality is also not that much good but ok, one more thing bass is not good as it is a boat earphones.Guys,Also for the proof i have attached picsPlease see and think before buying<U+200B> this unreliable product.Thanks.\\n                                                                                                          \n",
       "3 i bought itfor 999,I purchased it second time, gifted first one to brother. This is really good.Sound quality is really good.You can connect 2 devices at a time.I connect laptop and mobile both.when listening muaic on Lappy, if u get a call, it switches to mobile,this switch between device is not good but again in this price its awesome.Battery stand by is 36 hours for me, and i have used it continously for 8 hours in one go. So Battery life is pretty awesome.Comfortable on ear.\\n\n",
       "4 Its sound quality is adorable. overall it was good but just for 2 weeks after that it stopped working and since then it never powered on again. I am claiming for warrenty and it is still undergoing.\\n                                                                                                                                                                                                                                                                                             \n",
       "5 Its Awesome... Good sound quality & 8-9 hrs battery life... Just waww look... <U+0001F609> I brought just 999 rupees...But Amazon's Packageing system is Very bad... Very poor packaging... Flipcart's packaging system is much better than Amazon...\\n                                                                                                                                                                                                                                              \n",
       "6 After 11 days, the charging port isn't working and now I can't even return it. Wat to do ?? I know there is one year warranty but it is only been 11 days. C'mon boat, please send me new one.\\n                                                                                                                                                                                                                                                                                                     \n",
       "  ReviewStar Product         \n",
       "1 3          boAt Rockerz 255\n",
       "2 1          boAt Rockerz 255\n",
       "3 4          boAt Rockerz 255\n",
       "4 1          boAt Rockerz 255\n",
       "5 5          boAt Rockerz 255\n",
       "6 1          boAt Rockerz 255"
      ]
     },
     "metadata": {},
     "output_type": "display_data"
    }
   ],
   "source": [
    "### Importing the review dataset\n",
    "\n",
    "df_data = read.csv(\"AllProductReviews.csv\", encoding = 'UTF-8')\n",
    "\n",
    "n_reviews = nrow(df_data)\n",
    "\n",
    "cat('Number of columns:', length(df_data), '\\n')\n",
    "cat('Number of rows:', n_reviews)\n",
    "\n",
    "head(df_data)"
   ]
  },
  {
   "cell_type": "markdown",
   "id": "9a83c5cc",
   "metadata": {},
   "source": [
    "### To facilitate easier processing, I will assign good reviews to '1' and bad reviews to '0'"
   ]
  },
  {
   "cell_type": "code",
   "execution_count": 5,
   "id": "ba29fa9f",
   "metadata": {
    "scrolled": true,
    "tags": []
   },
   "outputs": [
    {
     "name": "stdout",
     "output_type": "stream",
     "text": [
      "Number of 1 star reviews: 2493 \n",
      "Number of 2 star reviews: 939 \n",
      "Number of 3 star reviews: 1503 \n",
      "Number of 4 star reviews: 3189 \n",
      "Number of 5 star reviews: 6213 \n"
     ]
    },
    {
     "data": {
      "image/png": "[encoded data removed]",
      "text/plain": [
       "plot without title"
      ]
     },
     "metadata": {},
     "output_type": "display_data"
    }
   ],
   "source": [
    "### View the number of reviews from each rating\n",
    "\n",
    "rating = c(1,2,3,4,5)  # Amazon uses a 5 star rating system\n",
    "ratingnum = c()\n",
    "\n",
    "for (i in rating) {\n",
    "    # Loop through rating values and add number of reviews for that value to ratingnum\n",
    "    ratingnum = c(ratingnum, length(df_data[df_data$ReviewStar == i, 3]) )\n",
    "    \n",
    "    # Print the number\n",
    "    cat('Number of', i, 'star reviews:', ratingnum[i], '\\n')\n",
    "}\n",
    "\n",
    "# Convert to a dataframe\n",
    "ratingdata = data.frame(rating = rating, ratingnum = ratingnum)\n",
    "\n",
    "# Plot in a bar chart\n",
    "ggplot(ratingdata, aes(x = '', y = ratingnum, fill = rating, color = rating)) +\n",
    "  geom_bar(stat = 'identity', color = 'white') +\n",
    "  coord_polar('y') +\n",
    "  theme_void() +\n",
    "  ggtitle('Number of reviews for each rating number')"
   ]
  },
  {
   "cell_type": "code",
   "execution_count": 6,
   "id": "b55c9a32",
   "metadata": {
    "tags": []
   },
   "outputs": [],
   "source": [
    "# Combined: Column that combines the ReviewTitle and ReviewBody contents\n",
    "df_data$Combined = paste(df_data[[1]], df_data[[2]])"
   ]
  },
  {
   "cell_type": "markdown",
   "id": "336e50ff",
   "metadata": {},
   "source": [
    "## Binning the reviews into categories and merging title/body text\n",
    "\n",
    "The number of 5 star reviews is larger than the number of 1, 2, and 3 star reviews combined - the number of 2 star reviews doesn't even break 1000. The data is thus skewed, and if machine learning algorithms are run with the current 5 categories, it would likely be innaccurate.\n",
    "\n",
    "From a business's perspective, though, customer satisfaction is key - any rating lower than perfect can be considered bad. If the customer left a low rating, they were unsatisfied with something, and discovering these issues is important for guiding product development.\n",
    "\n",
    "I will create two class bins - \"good\" reviews consisting of 4/5 star reviews, and \"bad\" reviews consisting of all others (1-3 star reviews). This is technically still skewed toward the good review category, but this is a fairly accurate representation of sentiment - a 4 star rating or better would typically be considered good on a 5 star spectrum.\n",
    "\n",
    "I will also merge the title with the body into a single text block - this is because the title acts as a summarized version of the review where the most important criticism is noted."
   ]
  },
  {
   "cell_type": "code",
   "execution_count": 7,
   "id": "6836bc44",
   "metadata": {
    "tags": []
   },
   "outputs": [
    {
     "data": {
      "text/html": [
       "<table>\n",
       "<thead><tr><th scope=col>ReviewTitle</th><th scope=col>ReviewBody</th><th scope=col>ReviewStar</th><th scope=col>Product</th><th scope=col>Combined</th><th scope=col>class</th></tr></thead>\n",
       "<tbody>\n",
       "\t<tr><td>Honest review of an edm music lover\n",
       "                                                                                                                                                                                                                                                                                                                                                                                                                                                                                           </td><td>No doubt it has a great bass and to a great extent noise cancellation and decent sound clarity and mindblowing battery but the following dissapointed me though i tried a lot to adjust.1.Bluetooth range not more than 10m2. Pain in ear due the conical buds(can be removed)3. Wires are a bit long which makes it odd in front.4. No pouch provided.5. Worst part is very low quality and distoring mic. Other person keeps complaining about my voice.\n",
       "                                                                    </td><td>3                                                                                                                                                                                                                                                                                                                                                                                                                                                                                                                               </td><td>boAt Rockerz 255                                                                                                                                                                                                                                                                                                                                                                                                                                                                                                                </td><td>Honest review of an edm music lover\n",
       " No doubt it has a great bass and to a great extent noise cancellation and decent sound clarity and mindblowing battery but the following dissapointed me though i tried a lot to adjust.1.Bluetooth range not more than 10m2. Pain in ear due the conical buds(can be removed)3. Wires are a bit long which makes it odd in front.4. No pouch provided.5. Worst part is very low quality and distoring mic. Other person keeps complaining about my voice.\n",
       "                              </td><td>bad                                                                                                                                                                                                                                                                                                                                                                                                                                                                                                                             </td></tr>\n",
       "\t<tr><td>Unreliable earphones with high cost\n",
       "                                                                                                                                                                                                                                                                                                                                                                                                                                                                                                                                         </td><td><span style=white-space:pre-wrap>This  earphones are unreliable, i bought it before 15 days meanwhile right side ear buds got cracked automatically and it got divided in two parts, and sound quality is also not that much good but ok, one more thing bass is not good as it is a boat earphones.Guys,Also for the proof i have attached picsPlease see and think before buying&lt;U+200B&gt; this unreliable product.Thanks.\n",
       "                                                                                                          </span>                           </td><td>1                                                                                                                                                                                                                                                                                                                                                                                                                                                                                                                                                                             </td><td>boAt Rockerz 255                                                                                                                                                                                                                                                                                                                                                                                                                                                                                                                                                              </td><td><span style=white-space:pre-wrap>Unreliable earphones with high cost\n",
       " This  earphones are unreliable, i bought it before 15 days meanwhile right side ear buds got cracked automatically and it got divided in two parts, and sound quality is also not that much good but ok, one more thing bass is not good as it is a boat earphones.Guys,Also for the proof i have attached picsPlease see and think before buying&lt;U+200B&gt; this unreliable product.Thanks.\n",
       "                                                                                               </span></td><td>bad                                                                                                                                                                                                                                                                                                                                                                                                                                                                                                                                                                           </td></tr>\n",
       "\t<tr><td>Really good and durable.\n",
       "                                                                                                                                                                                                                                                                                                                                                                                                                                                                                                      </td><td>i bought itfor 999,I purchased it second time, gifted first one to brother. This is really good.Sound quality is really good.You can connect 2 devices at a time.I connect laptop and mobile both.when listening muaic on Lappy, if u get a call, it switches to mobile,this switch between device is not good but again in this price its awesome.Battery stand by is 36 hours for me, and i have used it continously for 8 hours in one go. So Battery life is pretty awesome.Comfortable on ear.\n",
       "                           </td><td>4                                                                                                                                                                                                                                                                                                                                                                                                                                                                                                                               </td><td>boAt Rockerz 255                                                                                                                                                                                                                                                                                                                                                                                                                                                                                                                </td><td>Really good and durable.\n",
       " i bought itfor 999,I purchased it second time, gifted first one to brother. This is really good.Sound quality is really good.You can connect 2 devices at a time.I connect laptop and mobile both.when listening muaic on Lappy, if u get a call, it switches to mobile,this switch between device is not good but again in this price its awesome.Battery stand by is 36 hours for me, and i have used it continously for 8 hours in one go. So Battery life is pretty awesome.Comfortable on ear.\n",
       "</td><td>good                                                                                                                                                                                                                                                                                                                                                                                                                                                                                                                            </td></tr>\n",
       "</tbody>\n",
       "</table>\n"
      ],
      "text/latex": [
       "\\begin{tabular}{r|llllll}\n",
       " ReviewTitle & ReviewBody & ReviewStar & Product & Combined & class\\\\\n",
       "\\hline\n",
       "\t Honest review of an edm music lover\n",
       "                                                                                                                                                                                                                                                                                                                                                                                                                                                                                            & No doubt it has a great bass and to a great extent noise cancellation and decent sound clarity and mindblowing battery but the following dissapointed me though i tried a lot to adjust.1.Bluetooth range not more than 10m2. Pain in ear due the conical buds(can be removed)3. Wires are a bit long which makes it odd in front.4. No pouch provided.5. Worst part is very low quality and distoring mic. Other person keeps complaining about my voice.\n",
       "                                                                     & 3                                                                                                                                                                                                                                                                                                                                                                                                                                                                                                                                & boAt Rockerz 255                                                                                                                                                                                                                                                                                                                                                                                                                                                                                                                 & Honest review of an edm music lover\n",
       " No doubt it has a great bass and to a great extent noise cancellation and decent sound clarity and mindblowing battery but the following dissapointed me though i tried a lot to adjust.1.Bluetooth range not more than 10m2. Pain in ear due the conical buds(can be removed)3. Wires are a bit long which makes it odd in front.4. No pouch provided.5. Worst part is very low quality and distoring mic. Other person keeps complaining about my voice.\n",
       "                               & bad                                                                                                                                                                                                                                                                                                                                                                                                                                                                                                                             \\\\\n",
       "\t Unreliable earphones with high cost\n",
       "                                                                                                                                                                                                                                                                                                                                                                                                                                                                                            & This  earphones are unreliable, i bought it before 15 days meanwhile right side ear buds got cracked automatically and it got divided in two parts, and sound quality is also not that much good but ok, one more thing bass is not good as it is a boat earphones.Guys,Also for the proof i have attached picsPlease see and think before buying<U+200B> this unreliable product.Thanks.\n",
       "                                                                                                                                      & 1                                                                                                                                                                                                                                                                                                                                                                                                                                                                                                                                & boAt Rockerz 255                                                                                                                                                                                                                                                                                                                                                                                                                                                                                                                 & Unreliable earphones with high cost\n",
       " This  earphones are unreliable, i bought it before 15 days meanwhile right side ear buds got cracked automatically and it got divided in two parts, and sound quality is also not that much good but ok, one more thing bass is not good as it is a boat earphones.Guys,Also for the proof i have attached picsPlease see and think before buying<U+200B> this unreliable product.Thanks.\n",
       "                                                                                                & bad                                                                                                                                                                                                                                                                                                                                                                                                                                                                                                                             \\\\\n",
       "\t Really good and durable.\n",
       "                                                                                                                                                                                                                                                                                                                                                                                                                                                                                                       & i bought itfor 999,I purchased it second time, gifted first one to brother. This is really good.Sound quality is really good.You can connect 2 devices at a time.I connect laptop and mobile both.when listening muaic on Lappy, if u get a call, it switches to mobile,this switch between device is not good but again in this price its awesome.Battery stand by is 36 hours for me, and i have used it continously for 8 hours in one go. So Battery life is pretty awesome.Comfortable on ear.\n",
       "                            & 4                                                                                                                                                                                                                                                                                                                                                                                                                                                                                                                                & boAt Rockerz 255                                                                                                                                                                                                                                                                                                                                                                                                                                                                                                                 & Really good and durable.\n",
       " i bought itfor 999,I purchased it second time, gifted first one to brother. This is really good.Sound quality is really good.You can connect 2 devices at a time.I connect laptop and mobile both.when listening muaic on Lappy, if u get a call, it switches to mobile,this switch between device is not good but again in this price its awesome.Battery stand by is 36 hours for me, and i have used it continously for 8 hours in one go. So Battery life is pretty awesome.Comfortable on ear.\n",
       " & good                                                                                                                                                                                                                                                                                                                                                                                                                                                                                                                            \\\\\n",
       "\\end{tabular}\n"
      ],
      "text/markdown": [
       "\n",
       "| ReviewTitle | ReviewBody | ReviewStar | Product | Combined | class |\n",
       "|---|---|---|---|---|---|\n",
       "| Honest review of an edm music lover\n",
       "                                                                                                                                                                                                                                                                                                                                                                                                                                                                                            | No doubt it has a great bass and to a great extent noise cancellation and decent sound clarity and mindblowing battery but the following dissapointed me though i tried a lot to adjust.1.Bluetooth range not more than 10m2. Pain in ear due the conical buds(can be removed)3. Wires are a bit long which makes it odd in front.4. No pouch provided.5. Worst part is very low quality and distoring mic. Other person keeps complaining about my voice.\n",
       "                                                                     | 3                                                                                                                                                                                                                                                                                                                                                                                                                                                                                                                                | boAt Rockerz 255                                                                                                                                                                                                                                                                                                                                                                                                                                                                                                                 | Honest review of an edm music lover\n",
       " No doubt it has a great bass and to a great extent noise cancellation and decent sound clarity and mindblowing battery but the following dissapointed me though i tried a lot to adjust.1.Bluetooth range not more than 10m2. Pain in ear due the conical buds(can be removed)3. Wires are a bit long which makes it odd in front.4. No pouch provided.5. Worst part is very low quality and distoring mic. Other person keeps complaining about my voice.\n",
       "                               | bad                                                                                                                                                                                                                                                                                                                                                                                                                                                                                                                              |\n",
       "| Unreliable earphones with high cost\n",
       "                                                                                                                                                                                                                                                                                                                                                                                                                                                                                            | This  earphones are unreliable, i bought it before 15 days meanwhile right side ear buds got cracked automatically and it got divided in two parts, and sound quality is also not that much good but ok, one more thing bass is not good as it is a boat earphones.Guys,Also for the proof i have attached picsPlease see and think before buying<U+200B> this unreliable product.Thanks.\n",
       "                                                                                                                                      | 1                                                                                                                                                                                                                                                                                                                                                                                                                                                                                                                                | boAt Rockerz 255                                                                                                                                                                                                                                                                                                                                                                                                                                                                                                                 | Unreliable earphones with high cost\n",
       " This  earphones are unreliable, i bought it before 15 days meanwhile right side ear buds got cracked automatically and it got divided in two parts, and sound quality is also not that much good but ok, one more thing bass is not good as it is a boat earphones.Guys,Also for the proof i have attached picsPlease see and think before buying<U+200B> this unreliable product.Thanks.\n",
       "                                                                                                | bad                                                                                                                                                                                                                                                                                                                                                                                                                                                                                                                              |\n",
       "| Really good and durable.\n",
       "                                                                                                                                                                                                                                                                                                                                                                                                                                                                                                       | i bought itfor 999,I purchased it second time, gifted first one to brother. This is really good.Sound quality is really good.You can connect 2 devices at a time.I connect laptop and mobile both.when listening muaic on Lappy, if u get a call, it switches to mobile,this switch between device is not good but again in this price its awesome.Battery stand by is 36 hours for me, and i have used it continously for 8 hours in one go. So Battery life is pretty awesome.Comfortable on ear.\n",
       "                            | 4                                                                                                                                                                                                                                                                                                                                                                                                                                                                                                                                | boAt Rockerz 255                                                                                                                                                                                                                                                                                                                                                                                                                                                                                                                 | Really good and durable.\n",
       " i bought itfor 999,I purchased it second time, gifted first one to brother. This is really good.Sound quality is really good.You can connect 2 devices at a time.I connect laptop and mobile both.when listening muaic on Lappy, if u get a call, it switches to mobile,this switch between device is not good but again in this price its awesome.Battery stand by is 36 hours for me, and i have used it continously for 8 hours in one go. So Battery life is pretty awesome.Comfortable on ear.\n",
       " | good                                                                                                                                                                                                                                                                                                                                                                                                                                                                                                                             |\n",
       "\n"
      ],
      "text/plain": [
       "  ReviewTitle                          \n",
       "1 Honest review of an edm music lover\\n\n",
       "2 Unreliable earphones with high cost\\n\n",
       "3 Really good and durable.\\n           \n",
       "  ReviewBody                                                                                                                                                                                                                                                                                                                                                                                                                                                                                           \n",
       "1 No doubt it has a great bass and to a great extent noise cancellation and decent sound clarity and mindblowing battery but the following dissapointed me though i tried a lot to adjust.1.Bluetooth range not more than 10m2. Pain in ear due the conical buds(can be removed)3. Wires are a bit long which makes it odd in front.4. No pouch provided.5. Worst part is very low quality and distoring mic. Other person keeps complaining about my voice.\\n                                         \n",
       "2 This  earphones are unreliable, i bought it before 15 days meanwhile right side ear buds got cracked automatically and it got divided in two parts, and sound quality is also not that much good but ok, one more thing bass is not good as it is a boat earphones.Guys,Also for the proof i have attached picsPlease see and think before buying<U+200B> this unreliable product.Thanks.\\n                                                                                                          \n",
       "3 i bought itfor 999,I purchased it second time, gifted first one to brother. This is really good.Sound quality is really good.You can connect 2 devices at a time.I connect laptop and mobile both.when listening muaic on Lappy, if u get a call, it switches to mobile,this switch between device is not good but again in this price its awesome.Battery stand by is 36 hours for me, and i have used it continously for 8 hours in one go. So Battery life is pretty awesome.Comfortable on ear.\\n\n",
       "  ReviewStar Product         \n",
       "1 3          boAt Rockerz 255\n",
       "2 1          boAt Rockerz 255\n",
       "3 4          boAt Rockerz 255\n",
       "  Combined                                                                                                                                                                                                                                                                                                                                                                                                                                                                                                                        \n",
       "1 Honest review of an edm music lover\\n No doubt it has a great bass and to a great extent noise cancellation and decent sound clarity and mindblowing battery but the following dissapointed me though i tried a lot to adjust.1.Bluetooth range not more than 10m2. Pain in ear due the conical buds(can be removed)3. Wires are a bit long which makes it odd in front.4. No pouch provided.5. Worst part is very low quality and distoring mic. Other person keeps complaining about my voice.\\n                              \n",
       "2 Unreliable earphones with high cost\\n This  earphones are unreliable, i bought it before 15 days meanwhile right side ear buds got cracked automatically and it got divided in two parts, and sound quality is also not that much good but ok, one more thing bass is not good as it is a boat earphones.Guys,Also for the proof i have attached picsPlease see and think before buying<U+200B> this unreliable product.Thanks.\\n                                                                                               \n",
       "3 Really good and durable.\\n i bought itfor 999,I purchased it second time, gifted first one to brother. This is really good.Sound quality is really good.You can connect 2 devices at a time.I connect laptop and mobile both.when listening muaic on Lappy, if u get a call, it switches to mobile,this switch between device is not good but again in this price its awesome.Battery stand by is 36 hours for me, and i have used it continously for 8 hours in one go. So Battery life is pretty awesome.Comfortable on ear.\\n\n",
       "  class\n",
       "1 bad  \n",
       "2 bad  \n",
       "3 good "
      ]
     },
     "metadata": {},
     "output_type": "display_data"
    }
   ],
   "source": [
    "### For the SVM analysis, it will be easier to work with 0 (bad review) and 1 (good review)\n",
    "\n",
    "# Make a copy of the original DF to avoid any errors\n",
    "df_data2 = df_data\n",
    "\n",
    "# good review = rating >=4\n",
    "# bad review = rating < 4\n",
    "cutoff = 4\n",
    "\n",
    "### Changing labels for the SVM analysis\n",
    "df_data2[ df_data2$ReviewStar < cutoff, 'class'] = 'bad'\n",
    "df_data2[ df_data2$ReviewStar >= cutoff, 'class'] = 'good'\n",
    "\n",
    "head(df_data2, 3)"
   ]
  },
  {
   "cell_type": "code",
   "execution_count": 8,
   "id": "db16debf",
   "metadata": {
    "scrolled": true,
    "tags": []
   },
   "outputs": [
    {
     "name": "stdout",
     "output_type": "stream",
     "text": [
      "Number of good reviews:  9402 \n",
      "Number of bad reviews:  4935 \n"
     ]
    },
    {
     "data": {
      "image/png": "[encoded data removed]",
      "text/plain": [
       "plot without title"
      ]
     },
     "metadata": {},
     "output_type": "display_data"
    }
   ],
   "source": [
    "### Split data into good and bad reviews\n",
    "\n",
    "df_good = df_data2[ df_data2$class == 'good', 'Combined']\n",
    "df_bad = df_data2[ df_data2$class == 'bad', 'Combined']\n",
    "\n",
    "cat('Number of good reviews: ', length(df_good), '\\n')\n",
    "cat('Number of bad reviews: ', length(df_bad), '\\n')\n",
    "\n",
    "pie_data = data.frame(num = c(length(df_good), length(df_bad)), ReviewType = c('Good', 'Bad'))\n",
    "\n",
    "ggplot(pie_data, aes(x = '', y = num, fill = ReviewType )) +\n",
    "  geom_bar(stat = 'identity', color = 'white') +\n",
    "  coord_polar('y') +\n",
    "  theme_void() +\n",
    "  ggtitle('Number of Good vs Bad Reviews')"
   ]
  },
  {
   "cell_type": "markdown",
   "id": "07b3a928",
   "metadata": {},
   "source": [
    "## Useful functions for building the corpus"
   ]
  },
  {
   "cell_type": "code",
   "execution_count": 9,
   "id": "44c77c38",
   "metadata": {},
   "outputs": [],
   "source": [
    "################################ Create a function that will perform preprocessing required for building the corpus\n",
    "\n",
    "build_corpus = function(vec, myStopWords) {\n",
    "  ### Build a preprocessing function to build a word corpus\n",
    "  ### Input: A vector containing all documents, a vector containing stopwords\n",
    "  ### Output: A word corpus with all preprocessing steps completed\n",
    "  # Tasks:\n",
    "  # Create the corpus\n",
    "  # Strip most/all punctuation\n",
    "  # Split corpus into individual words and save to own variable\n",
    "  # Convert to all lowercase\n",
    "  # Delete all stop words - find an existing list and add anything\n",
    "  # Stem\n",
    "  ### Check the stems\n",
    "  # Set min/max limits\n",
    "  # Delete numbers (can be ratings, price, product number, date; probably not useful)\n",
    "  \n",
    "  ### Create the corpus\n",
    "  vec_corp = VCorpus(VectorSource(vec))\n",
    "    \n",
    "  ### Convert to ASCII\n",
    "  ### This is a temporary fix to remove emojis\n",
    "  vec_corp = tm_map(vec_corp, content_transformer(iconv), to='ASCII', sub='')\n",
    "  \n",
    "  # Remove general punctuation\n",
    "  # Replace ',' '.' '/' with spaces first to avoid accidental word merges (ex: good.You --> goodYou)\n",
    "  vec_corp = tm_map(vec_corp, content_transformer(gsub), pattern = ',', replacement = ' ')\n",
    "  vec_corp = tm_map(vec_corp, content_transformer(gsub), pattern = '\\\\.', replacement = ' ')\n",
    "  vec_corp = tm_map(vec_corp, content_transformer(gsub), pattern = '\\\\/', replacement = ' ')\n",
    "  vec_corp = tm_map(vec_corp, removePunctuation)\n",
    "  \n",
    "  ### Remove numbers\n",
    "  vec_corp = tm_map(vec_corp, removeNumbers)\n",
    "  \n",
    "  ### Convert to lower case\n",
    "  vec_corp = tm_map(vec_corp, content_transformer(tolower))\n",
    "  \n",
    "  ### Remove stopwords\n",
    "  vec_corp = tm_map(vec_corp, removeWords, tolower(myStopWords))\n",
    "  \n",
    "  ### Perform stemming\n",
    "  vec_corp = tm_map(vec_corp, stemDocument)\n",
    "  \n",
    "  ### Eliminate extra whitespaces\n",
    "  vec_corp = tm_map(vec_corp, stripWhitespace)\n",
    "  \n",
    "  return(vec_corp)\n",
    "}\n",
    "\n",
    "######################################## Create a function that will build the corpus\n",
    "\n",
    "build_dtm = function(vec, \n",
    "                     stopWords, \n",
    "                     controls = list(weighting = weightTf, \n",
    "                                     bounds = list(global = c(50, Inf)), \n",
    "                                     wordLengths = c(3, 15),\n",
    "                                     normalize = FALSE),\n",
    "                     sparse_threshold = -1) {\n",
    "    ### Build a preprocessing function to build a word corpus\n",
    "    ### Input: A vector containing all documents, a vector containing stopwords\n",
    "    ### Output: A word corpus with all preprocessing steps completed\n",
    "    \n",
    "    temp_corp = build_corpus(vec, stopWords)\n",
    "    temp_corp = DocumentTermMatrix(temp_corp, control = controls)\n",
    "    if (sparse_threshold > 0) {\n",
    "        temp_corp = removeSparseTerms(temp_corp, sparse_threshold)\n",
    "    }\n",
    "    \n",
    "    \n",
    "    return(temp_corp)\n",
    "}"
   ]
  },
  {
   "cell_type": "code",
   "execution_count": 10,
   "id": "c627dce9",
   "metadata": {},
   "outputs": [],
   "source": [
    "# Create a list of stopwords to delete\n",
    "\n",
    "# Delete product names (derived from the original data)\n",
    "products = c(unique(df_data$Product), tolower(unique(df_data$Product)))\n",
    "\n",
    "# Add any custom terms that may appear often in reviews\n",
    "#custom = c('u', 'ur', 'headphone', 'headphones', 'earphone', 'earphones')\n",
    "\n",
    "# Words pertaining to quality\n",
    "# quality = c('good', 'nice', 'best', 'bad', 'worst', 'excellent', 'great', 'superb', 'superior', 'super', 'worth', 'ok', \n",
    "#            'better', 'fine', 'perfect', 'cheap', 'awful', 'poor', 'not good', 'worse', 'substandard', 'adequate', \n",
    "#            'inadequate', 'terrible', 'satisfactory', 'unsatistfactory', 'unacceptable', 'inferior', 'awesome', 'like',\n",
    "#            'love', 'hate', '')\n",
    "\n",
    "# Create the stopwords list\n",
    "myStopWords = c(stopwords('en'), products)\n",
    "# Exceptions from the stopwords list\n",
    "myStopWords = myStopWords[(myStopWords != 'not') & (myStopWords != 'no')]"
   ]
  },
  {
   "cell_type": "markdown",
   "id": "a9297648",
   "metadata": {},
   "source": [
    "## Building a corpus for good and bad reviews"
   ]
  },
  {
   "cell_type": "code",
   "execution_count": 11,
   "id": "77d7bd9d",
   "metadata": {},
   "outputs": [],
   "source": [
    "# Build the corpus\n",
    "controls = list(weighting = weightTf, \n",
    "                bounds = list(global = c(1, Inf)), \n",
    "                wordLengths = c(3, 15), \n",
    "                normalize = FALSE)\n",
    "sparse_threshold = .98\n",
    "\n",
    "#temp: DTM format\n",
    "#df: TF counts\n",
    "good_dtm = data.frame(as.matrix(build_dtm(df_good, myStopWords, controls, sparse_threshold)))\n",
    "good_tf = data.frame(terms = names(colSums(good_dtm)), count = colSums(good_dtm))\n",
    "\n",
    "bad_dtm = data.frame(as.matrix(build_dtm(df_bad, myStopWords, controls, sparse_threshold)))\n",
    "bad_tf = data.frame(terms = names(colSums(bad_dtm)), count = colSums(bad_dtm))"
   ]
  },
  {
   "cell_type": "code",
   "execution_count": 12,
   "id": "7d878324",
   "metadata": {
    "scrolled": true
   },
   "outputs": [
    {
     "name": "stdout",
     "output_type": "stream",
     "text": [
      "Number of common words in the good reviews:  115"
     ]
    },
    {
     "data": {
      "image/png": "[encoded data removed]",
      "text/plain": [
       "plot without title"
      ]
     },
     "metadata": {},
     "output_type": "display_data"
    }
   ],
   "source": [
    "# View the most common words in the good reviews\n",
    "cat('Number of common words in the good reviews: ', nrow(good_tf))\n",
    "\n",
    "ggplot( data = head(good_tf[order(-good_tf$count),], 30), aes(reorder(terms, count), count)) +\n",
    "    geom_col(color = 'deepskyblue', fill = 'deepskyblue' , width = .8) +\n",
    "    labs(title = '30 most common words in good reviews') +\n",
    "    coord_flip() +\n",
    "    scale_x_discrete(name = \"\", position = \"top\") +\n",
    "    scale_y_reverse(limits = c(8000, 0), position = \"left\")\n"
   ]
  },
  {
   "cell_type": "code",
   "execution_count": 13,
   "id": "d6dfa81e",
   "metadata": {
    "scrolled": true
   },
   "outputs": [
    {
     "name": "stdout",
     "output_type": "stream",
     "text": [
      "Number of common words in the bad reviews:  142"
     ]
    },
    {
     "data": {
      "image/png": "[encoded data removed]",
      "text/plain": [
       "plot without title"
      ]
     },
     "metadata": {},
     "output_type": "display_data"
    }
   ],
   "source": [
    "# View the most common words in the good reviews\n",
    "cat('Number of common words in the bad reviews: ', nrow(bad_tf))\n",
    "\n",
    "ggplot( data = head(bad_tf[order(-bad_tf$count),], 30), aes(reorder(terms, count), count)) +\n",
    "    geom_col(color = 'darkorange', fill = 'darkorange' , width = .8) +\n",
    "    labs(title = '30 most common words in bad reviews') +\n",
    "    scale_x_discrete(name = \"\") + \n",
    "    ylim(0, 8000) + \n",
    "    coord_flip()"
   ]
  },
  {
   "cell_type": "markdown",
   "id": "ed35a14b",
   "metadata": {},
   "source": [
    "###  Conclusions from the initial analysis of good/bad reviews\n",
    "\n",
    "The most notable finding is that the top four terms in the good review set are the 2nd-5th terms in the bad review set (excluding the top term, \"not\"). \"Good\" ranks very highly on the bad review set, which is fairly counterintuitive. My theory is that since only individual tokens are used (instead of using n-grams), some of these terms are taken out of context - good may actually be \"not good\". Another theory is that because these reviews are on a scale from 1-5, the content of the review may be both positive and negative, especially in the middle of the scale. This leads to many terms being shared between the sets.\n",
    "\n",
    "Another interesting conclusion is how there are more important words in the bad review set than there are in the good review set (138 vs 114). Considering how the bad review set included only 34.4% of the total reviews, I would have expected fewer words in the bad review DTM.\n",
    "\n",
    "One possible explanation is that people tend to be more comprehensive when leaving bad reviews\n",
    "* Many good reviews focus on customer sentiment\n",
    "\n",
    ">'Just go for it\\n **Awesome best budget** wireless earphones\\n'\n",
    "\n",
    ">'**SUPERB**\\n **Sound quality is good**. noise cancellation is not upto the mark. **battery quality is decent**. by charging it once you can enjoy upto 5hrs of music without any issue\\n'\n",
    "* Bad reviews are often more detailed to emphasize discontent\n",
    "\n",
    ">'Honest review of an edm music lover\\n No doubt it has a great bass and to a great extent noise cancellation and decent sound clarity and mindblowing battery but the following **dissapointed** me though i tried a lot to adjust.1.**Bluetooth range not more than 10m2. Pain in ear due the conical buds(can be removed)3. Wires are a bit long which makes it odd in front.4. No pouch provided.5. Worst part is very low quality and distoring mic**. Other person keeps complaining about my voice.\\n'\n",
    "\n",
    ">'Review update - **Product failed after a few months**\\n Update: Sadly this is the **second Boat product to conk off after few months of use**. I guess this is the end of the journey for you and I Boat Audio, **not buying any more products from your brand**. Changed the rating to reflect the same.I was in the market for a cheap pair of Bluetooth earphones and I chanced upon this on a lightning deal and bought it. I have used Boat products before, they have good build quality and their sound is alright. I’m writing this after a month or so, enough time to have lived with it and get to know quirks and other problems.• **The sound is nothing great**, it’s a bit on the bassy side. If you’re a bass lover, this is definitely a good buy.• Connectivity is quick and painless – and it works without hassle every time. **The quality of the connectivity depends and is sometimes weird**. I can put the phone on charge and use it for a distance of about 3 meters, no worries. But sometimes when I’m walking really fast or jogging there are breaks and crackles in audio. Not sure if it’s the material of my gym wear, but it works well when the phone’s in my jeans.• **Battery life is nothing to write home about** – I listen to music constantly even when I’m at work. My demands are probably too high for this price range.• It is sweat-proof as advertised. No interruptions under a light drizzle.• It’s got great build quality for the price – looks and feels premium. Doesn’t tangle at all.• It stays in your ear regardless of the intensity of the exercise which is great.On the whole a great buy if you are looking for a cheaper alternative. Wait for a sale before you get it though.Like my reviews? Please do click the helpful button. It encourages me to share more about the products I use. Thanks!\\n'\n",
    "        \n",
    "\n",
    "### Adjusting the weights according to importance in good/bad reviews\n",
    "\n",
    "To lessen the influence of shared terms, I decided to implement a custom scheme that mirrors term frequency - inverse document frequency (TF-IDF). TF-IDF is a combination of two separate methods. Term frequency is just the frequency that a term occurs in a document (if normalized, then it is also divided by the number of terms in the document). Inverse document frequency measures the importance of a term by taking the natural log of the total number of documents divided by the number of documents with a given term in it.\n",
    "\n",
    "TFIDF = Num occurences of a term in a document * ln( {Total num documents} / {Num documents containing the term} )\n",
    "\n",
    "$$Weight_{new} = Weight * \\frac{Weight}{Total}$$\n",
    "\n",
    "For my variation, first, I will build a separate DTM for both the good and bad review sets (gDTM, bDTM). I will then calculate the term frequencies for every term that appears in either set (g_TF, b_TF), as well as the inverse document frequency within either set (g_idf, b_idf). I will then extract all terms that are shared between the two review sets (inboth_df).\n",
    "\n",
    "Then, for every term contained within inboth_df, I will multiply the TF from both sets with the IDF from the opposite set. Any term that is not contained within inboth_df will be multiplied by the default IDF (where number of documents containing the term = 1, to avoid division by 0)\n",
    "\n",
    "$$idf\\_count_{good\\_reviews} = Good\\_TF * Bad\\_IDF$$\n",
    "$$idf\\_count_{bad\\_reviews} = Bad\\_TF * Good\\_IDF$$\n",
    "\n",
    "Taking \"good\" for example:\n",
    "\n",
    "|Term  |Good TF     |Bad  TF     |TF Total     |Good IDF    |Bad  IDF    |\n",
    "|:----:|----:       |----:       |----:        |----:       |----:       |\n",
    "|good  |7869        |2273        |10142        |0.6551626   |1.142097    |\n",
    "\n",
    "Given these, values the custom TF-IDF (idf_count) values will be:\n",
    "\n",
    "$$idf\\_count_{good\\_reviews} = 7869 * 0.6551626 = 8989.449$$\n",
    "$$idf\\_count_{bad\\_reviews} = 2273 * 0.6551626 = 1489.185$$\n",
    "\n",
    "Taking \"stop\" for example (which is not represented in the good review set)\n",
    "\n",
    "|Term  |Bad  TF     |TF Total     |Good IDF    |\n",
    "|:----:|----:       |----:        |----:       |\n",
    "|stop  |713         |713          |N/A         |\n",
    "\n",
    "Since \"stop\" is not in the good review set, I will take the default good IDF value:\n",
    "\n",
    "$$Default\\_Good\\_IDF = \\ln{\\dfrac{\\# Good Reviews}{1}} = \\ln{\\dfrac{9402}{1}} = 9.1486777$$\n",
    "\n",
    "$$idf\\_count_{bad\\_reviews} = 713 * 5.370638 = 6523.007$$\n",
    "\n",
    "\n",
    "For reference, these are the calculated default IDF values\n",
    "\n",
    "|Default Good IDF |Default Bad IDF |\n",
    "|----:            |----:           |\n",
    "|9.1486777        |8.5041080             |\n",
    "\n"
   ]
  },
  {
   "cell_type": "markdown",
   "id": "e482b686-4527-4e36-8c57-ba45d01acd0c",
   "metadata": {},
   "source": [
    "## Qualities of a good indicator\n",
    "\n",
    "* High overall TF in DTM1 (avg count)\n",
    "* High overall DF in DTM1 (colSums(dtm1))\n",
    "* Low overall TF in DTM2 (tf2_count)\n",
    "* Low overall DF in DTM2 (colSums(dtm2))"
   ]
  },
  {
   "cell_type": "code",
   "execution_count": 55,
   "id": "25582808-f193-4f5a-b13b-5db753171773",
   "metadata": {},
   "outputs": [],
   "source": [
    "# Creating a function that will implement the weighting scheme\n",
    "\n",
    "col_scaler = function(vec, col_scale = c(1, 100)) {\n",
    "    # scale a vector between max and min\n",
    "    \n",
    "    max_val = col_scale[2]\n",
    "    min_val = col_scale[1]\n",
    "    scaled_vec = ( min_val + (max_val - min_val) * ((vec - min(vec)) / (max(vec) - min(vec))) )\n",
    "    \n",
    "    return(scaled_vec)\n",
    "    \n",
    "    }\n",
    "    \n",
    "\n",
    "custom_tfdf = function(dtm1, dtm2, class_col = '', output_scale = c(1, 100), diff_weight = 1, normByDocLength = FALSE) {\n",
    "    # Implements custom tfdf where terms are weighted according to term frequency and doc frequency\n",
    "    \n",
    "    # Get dfs/tfs for each df and insert into tf\n",
    "    # Initialize defaults for non-shared terms\n",
    "    if (class_col != '') {\n",
    "        dtm1_class_col = dtm1[class_col]\n",
    "        dtm2_class_col = dtm2[class_col]\n",
    "        dtm1 = subset(dtm1, select = -c(class_col))\n",
    "        dtm2 = subset(dtm2, select = -c(class_col))\n",
    "        }\n",
    "    \n",
    "    if (normByDocLength == TRUE) {\n",
    "        dtm1 = sweep(dtm1, MARGIN = 1, STATS = rowSums(dtm1) + 1, FUN = '/')\n",
    "        dtm2 = sweep(dtm2, MARGIN = 1, STATS = rowSums(dtm2) + 1, FUN = '/')\n",
    "        }\n",
    "\n",
    "    tf1 = data.frame(terms = names(dtm1), \n",
    "                     avg_count = colMeans(dtm1), \n",
    "                     tot_count = colSums(dtm1),\n",
    "                     doc_freq = colSums(dtm1 != 0),\n",
    "                     tf1_higherFreq = 1,\n",
    "                     tf2_avg_count = 1,\n",
    "                     tf2_tot_count = 1,\n",
    "                     tf2_doc_freq = 1,\n",
    "                     stringsAsFactors = FALSE)\n",
    "    tf2 = data.frame(terms = names(dtm2), \n",
    "                     avg_count = colMeans(dtm2), \n",
    "                     tot_count = colSums(dtm2),\n",
    "                     doc_freq = colSums(dtm2 != 0),\n",
    "                     tf2_higherFreq = 1,\n",
    "                     tf1_avg_count = 1,\n",
    "                     tf1_tot_count = 1,\n",
    "                     tf1_doc_freq = 1,\n",
    "                     stringsAsFactors = FALSE)\n",
    "    union_tf = data.frame(terms = union(tf1$terms, tf2$terms), \n",
    "                          tf1_avg_count = 1, \n",
    "                          tf1_tot_count = 1,\n",
    "                          tf1_doc_freq = 1,\n",
    "                          tf2_avg_count = 1,\n",
    "                          tf2_tot_count = 1,\n",
    "                          tf2_doc_freq = 1,\n",
    "                          stringsAsFactors = FALSE)\n",
    "\n",
    "\n",
    "    # Find shared terms\n",
    "    in_both = intersect(tf1$terms, tf2$terms)\n",
    "    # Get doc freqs and counts for shared terms\n",
    "    tf1_doc_freq = tf1[tf1$terms %in% in_both, 'doc_freq']\n",
    "    tf1_avg_count = tf1[tf1$terms %in% in_both, 'avg_count']\n",
    "    tf1_tot_count = tf1[tf1$terms %in% in_both, 'tot_count']\n",
    "    tf2_doc_freq = tf2[tf2$terms %in% in_both, 'doc_freq']\n",
    "    tf2_avg_count = tf2[tf2$terms %in% in_both, 'avg_count']\n",
    "    tf2_tot_count = tf2[tf2$terms %in% in_both, 'tot_count']\n",
    "    # Update union_tf with shared values\n",
    "    union_tf[union_tf$terms %in% intersect(union_tf$terms, tf1$terms), c('tf1_avg_count', 'tf1_tot_count', 'tf1_doc_freq')] = list(tf1$avg_count, tf1$tot_count, tf1$doc_freq)\n",
    "    union_tf[union_tf$terms %in% intersect(union_tf$terms, tf2$terms), c('tf2_avg_count', 'tf2_tot_count', 'tf2_doc_freq')] = list(tf2$avg_count, tf2$tot_count, tf2$doc_freq)\n",
    "    tf1_higherFreq_cond = union_tf$tf1_avg_count * union_tf$tf1_tot_count * union_tf$tf1_doc_freq > nrow(dtm1) * union_tf$tf2_avg_count * union_tf$tf2_tot_count * union_tf$tf2_doc_freq\n",
    "    tf2_higherFreq_cond = union_tf$tf2_avg_count * union_tf$tf2_tot_count * union_tf$tf2_doc_freq > nrow(dtm2) * union_tf$tf1_avg_count * union_tf$tf1_tot_count * union_tf$tf1_doc_freq\n",
    "    union_tf1_higherFreq = union_tf[tf1_higherFreq_cond, 'terms']\n",
    "    union_tf2_higherFreq = union_tf[tf2_higherFreq_cond, 'terms']\n",
    "    # Update tf1 and tf2 with shared values\n",
    "    tf1[tf1$terms %in% in_both, c('tf1_higherFreq', 'tf2_avg_count', 'tf2_tot_count', 'tf2_doc_freq')] = list(0, tf2_avg_count, tf2_tot_count, tf2_doc_freq) \n",
    "    tf1[(tf1$avg_count * tf1$tot_count * tf1$doc_freq > tf1$tf2_avg_count * tf1$tf2_tot_count * tf1$tf2_doc_freq), 'tf1_higherFreq'] = 1\n",
    "    tf2[tf2$terms %in% in_both, c('tf2_higherFreq', 'tf1_avg_count', 'tf1_tot_count', 'tf1_doc_freq')] = list(0, tf1_avg_count, tf1_tot_count, tf1_doc_freq)\n",
    "    tf2[(tf2$avg_count * tf2$tot_count * tf2$doc_freq > tf2$tf1_avg_count * tf2$tf1_tot_count * tf2$tf1_doc_freq), 'tf2_higherFreq'] = 1\n",
    "    # Update the higherFreq columns to be factors\n",
    "    tf1$tf1_higherFreq = as.factor(tf1$tf1_higherFreq)\n",
    "    tf2$tf2_higherFreq = as.factor(tf2$tf2_higherFreq)\n",
    "    \n",
    "    # Term weighting\n",
    "    # tf1['weight'] = (tf1$doc_freq / nrow(dtm1)) / (tf1$tf2_avg_count * tf1$tf2_doc_freq + 1) * (tf1$tot_count / nrow(dtm1))\n",
    "    # tf2['weight'] = (tf2$doc_freq / nrow(dtm2)) / (tf2$tf1_avg_count * tf2$tf1_doc_freq + 1) * (tf2$tot_count / nrow(dtm2))\n",
    "    tf1['weight'] = (tf1$doc_freq * tf1$tot_count * tf1$avg_count) / (nrow(dtm1) * tf1$tf2_tot_count * tf1$tf2_avg_count * tf1$tf2_doc_freq)\n",
    "    tf2['weight'] = (tf2$doc_freq * tf2$tot_count * tf2$avg_count) / (nrow(dtm2) * tf2$tf1_tot_count * tf2$tf1_avg_count * tf2$tf1_doc_freq)\n",
    "    tf1[setdiff(tf1$terms, in_both), 'weight'] = tf1[setdiff(tf1$terms, in_both), 'weight'] * diff_weight \n",
    "    tf2[setdiff(tf2$terms, in_both), 'weight'] = tf2[setdiff(tf2$terms, in_both), 'weight'] * diff_weight \n",
    "    tf1['weighted_count'] = tf1$tot_count * tf1$weight\n",
    "    tf2['weighted_count'] = tf2$tot_count * tf2$weight\n",
    "    # if (normByDocLength == TRUE) {\n",
    "    #     tf1['weighted_count'] = tf1$tot_count * tf1$weight\n",
    "    #     tf2['weighted_count'] = tf2$tot_count * tf2$weight\n",
    "    # } else {\n",
    "    #     tf1['weighted_count'] = tf1$avg_count * tf1$weight\n",
    "    #     tf2['weighted_count'] = tf2$avg_count * tf2$weight\n",
    "    # }\n",
    "    tf1map = log(tf1$weighted_count) \n",
    "    tf2map = log(tf2$weighted_count)\n",
    "    tf1['weighted_count_scaled'] = col_scaler(tf1map, col_scale = output_scale)\n",
    "    tf2['weighted_count_scaled'] = col_scaler(tf2map, col_scale = output_scale)\n",
    "         \n",
    "    # Multiply dtm columns by weights\n",
    "    dtm1 = sweep(dtm1, MARGIN = 2, STATS = tf1$weight, FUN = '*')\n",
    "    dtm2 = sweep(dtm2, MARGIN = 2, STATS = tf2$weight, FUN = '*')\n",
    "    \n",
    "    # Add the columns missing from either dtm with zero values (for row-binding later)\n",
    "    set1terms = c(setdiff(tf1$terms, tf2$terms))\n",
    "    set2terms = c(setdiff(tf2$terms, tf1$terms))\n",
    "    \n",
    "    dtm1_addCol = data.frame(matrix(0, nrow = nrow(dtm1), ncol = length(set2terms)))\n",
    "    colnames(dtm1_addCol) = set2terms\n",
    "    dtm1 = cbind(dtm1_addCol, dtm1)\n",
    "\n",
    "    dtm2_addCol = data.frame(matrix(0, nrow = nrow(dtm2), ncol = length(set1terms)))\n",
    "    colnames(dtm2_addCol) = set1terms\n",
    "    dtm2 = cbind(dtm2_addCol, dtm2)\n",
    "    \n",
    "    if (class_col != '') {\n",
    "        dtm1 = cbind(dtm1, dtm1_class_col)\n",
    "        dtm2 = cbind(dtm2, dtm2_class_col)\n",
    "        }\n",
    "\n",
    "    return(list(tf1, tf2, union_tf, dtm1, dtm2))\n",
    "}\n"
   ]
  },
  {
   "cell_type": "markdown",
   "id": "2d461cab-1671-4f9a-a5fa-dba322a57bf4",
   "metadata": {},
   "source": [
    "# Data preprocessing functions"
   ]
  },
  {
   "cell_type": "code",
   "execution_count": 56,
   "id": "eb218f61-fc9a-4e14-a218-a5dc34c086ac",
   "metadata": {},
   "outputs": [],
   "source": [
    "################### Split the data into two, one of \"size\", one of \"1-size\"\n",
    "simple_split = function(data, size, seed) {\n",
    "    # Split the data into two data frames, one of \"size\", one of \"1 - size\"\n",
    "    \n",
    "    set.seed(seed)\n",
    "    \n",
    "    # Pre splitting shuffling of the data\n",
    "    data = data[sample(nrow(data)),]\n",
    "    sample_size = floor(size * nrow(data))\n",
    "\n",
    "    output_data1 = data[sample(nrow(data), sample_size),]\n",
    "    output_data2 = data[-sample(nrow(data), sample_size),]\n",
    "    \n",
    "    cat('Size of Training set: \\n# Rows: ', nrow(output_data1), '\\n# Cols: ', ncol(output_data1), '\\n')\n",
    "    cat('Size of Testing set: \\n# Rows: ', nrow(output_data2), '\\n# Cols: ', ncol(output_data2), '\\n\\n')\n",
    "    \n",
    "    return(list(train = output_data1, test = output_data2))\n",
    "    }\n",
    "\n",
    "#################### Resample the data so all columns have the same # of values as the smallest column\n",
    "resample_to_lowest = function(data, col, seed) {\n",
    "    # Equalize the number of rows for each col value by randomly removing excess rows according to col value\n",
    "    # aka: get a randomized subsample of the dataset where the number of instances for each class is set to the\n",
    "    #     lowest total\n",
    "    set.seed(seed)\n",
    "    col_val_counts = table(data[col])\n",
    "    min_val = col_val_counts[which.min(col_val_counts)]\n",
    "    output_data = data[data[col] == names(min_val), ]\n",
    "    \n",
    "    for (col_val in names(col_val_counts)) {\n",
    "        if (col_val != names(min_val)) {\n",
    "            subset = data[data[col] == col_val, ]\n",
    "            output_data = rbind(output_data, subset[sample(nrow(subset), min_val),] )\n",
    "            }\n",
    "        }\n",
    "    \n",
    "    return(output_data)\n",
    "    }\n",
    "\n",
    "#################### Resample the data so all columns have the same # of values as the largest column\n",
    "bagging_to_highest = function(data, col, seed) {\n",
    "    # Equalize the number of rows for each col value by bagging the lower values to the highest\n",
    "    set.seed(seed)\n",
    "    col_val_counts = table(data[col])\n",
    "    max_val = col_val_counts[which.max(col_val_counts)]\n",
    "    output_data = data[data[col] == names(max_val), ]\n",
    "    \n",
    "    for (col_val in names(col_val_counts)) {\n",
    "        if (col_val != names(max_val)) {\n",
    "            subset = data[data[col] == col_val, ]\n",
    "            output_data = rbind(output_data, subset[sample(nrow(subset), max_val, replace = TRUE),] )\n",
    "            }\n",
    "        }\n",
    "    \n",
    "    return(output_data)\n",
    "    }\n",
    "\n",
    "# #################### Weight the classes according to their unbinned values\n",
    "# weight_by_class = function(dtm, df, class_value_colname, weight_df) {\n",
    "#     # Multiply dtm by weights for semi-supervised learning\n",
    "#     set.seed(100)\n",
    "    \n",
    "#     if (!(class_value_colname %in% colnames(df))) {\n",
    "#         stop('Invalid class value column provided')\n",
    "#         }\n",
    "#     if (ncol(weight_df) != 2) {\n",
    "#         stop('weight_df must have 2 columns (1: class value, 2: weights)')\n",
    "#         }\n",
    "#     if (nrow(weight_df) != nrow(unique(df[class_value_colname]))) {\n",
    "#         stop('Number of weights provided does not match number of classes in df')\n",
    "#         }\n",
    "    \n",
    "#     weighted_class_vals = df[, class_value_colname]\n",
    "#     for (i in 1:nrow(weight_df)) {\n",
    "#         class_val = weight_df[i,1]\n",
    "#         weight = weight_df[i,2]\n",
    "        \n",
    "#         weighted_class_vals[weighted_class_vals == class_val] = weight\n",
    "#         }\n",
    "#     output = sweep(dtm, MARGIN = 1, STATS = weighted_class_vals, FUN = '*')\n",
    "#     return(output)\n",
    "#     }\n",
    "\n",
    "##################### Split the data into test/train sets with options for resampling/bagging\n",
    "data_preprocess = function(data, seed = NULL, resample = NULL, bagging = NULL, class_col = NULL) {\n",
    "    # Split the data into two data frames, one of \"size\", one of \"1 - size\"\n",
    "    # If resample = TRUE, class distr. is equalized by resampling each class to lowest class number\n",
    "    # If bagging = TRUE, class dist. is equalized by resampling with replacement to highest class number\n",
    "    if (isTRUE(resample & bagging)) {\n",
    "        stop('resample and bagging cannot both be true')\n",
    "        }\n",
    "    if (is.null(resample)) {\n",
    "        resample = FALSE\n",
    "        }\n",
    "    if (is.null(bagging)) {\n",
    "        bagging = FALSE\n",
    "        }\n",
    "    \n",
    "    set.seed(seed)\n",
    "    \n",
    "    if (resample) {\n",
    "        if (is.null(class_col)) {\n",
    "                stop('class column is needed')\n",
    "            }\n",
    "        else {\n",
    "            cat('Resampling data to the lowest:\\n')\n",
    "            data = resample_to_lowest(data, class_col, seed)\n",
    "            }\n",
    "        }\n",
    "    if (bagging) {\n",
    "        if (is.null(class_col)) {\n",
    "            stop('class column is needed')\n",
    "            }\n",
    "        else {\n",
    "            cat('Bagging data to the highest:\\n')\n",
    "            data = bagging_to_highest(data, class_col, seed)\n",
    "            }\n",
    "        }\n",
    "    if (isFALSE(resample) & isFALSE(bagging)) {\n",
    "        cat('Basic data, no preprocessing needed:\\n')\n",
    "        }\n",
    "    \n",
    "    return(data)\n",
    "    }\n",
    "\n",
    "######################### Outputs information on the split datasets\n",
    "# data_split_info = function(data_split_output) {\n",
    "#     # Outputs information about the split datasets\n",
    "#     # Training data = 1\n",
    "#     # Testing data = 2\n",
    "#     output = list()\n",
    "    \n",
    "#     for (info_type in c('train', 'test')) {\n",
    "#         dat = data_split_output[[info_type]]\n",
    "#         counts = unname(table(dat$class))\n",
    "#         dat_info = data.frame('bad' = c(round(counts[1]/nrow(dat), 3), \n",
    "#                                         nrow(dat[dat$class == 'bad',])), \n",
    "#                               'good' = c(round(counts[2]/nrow(dat), 3), \n",
    "#                                          nrow(dat[dat$class == 'good',])),\n",
    "#                              'totals' = c(round(counts[1]/nrow(dat) + counts[2]/nrow(dat), 1),\n",
    "#                                           nrow(dat[dat$class == 'bad',]) + nrow(dat[dat$class == 'good',])))\n",
    "#         row.names(dat_info) = c('proportion', 'count')\n",
    "#         output = append(output, list(dat_info))\n",
    "#         }\n",
    "    \n",
    "#     return(output)\n",
    "#     }\n",
    "\n",
    "# ############################ Split a DTM in two (if test_train is true, sparse terms from test dtm are not cut)\n",
    "# # Perform build_dtm operations for both test and train data\n",
    "# splitData_build_dtm = function(data, data_col, stopWords, controls, sparse_threshold = -1, test_train = FALSE) {\n",
    "#     # Build dtms from data\n",
    "#     # data is a list of two datasets\n",
    "    \n",
    "#     dtm1 = data.frame(as.matrix(build_dtm(data[[1]][,data_col], \n",
    "#                                         myStopWords, \n",
    "#                                         controls, \n",
    "#                                         sparse_threshold)))\n",
    "    \n",
    "#     if (test_train == TRUE) {\n",
    "#         sparse_threshold = -1\n",
    "#         }\n",
    "#     dtm2 = data.frame(as.matrix(build_dtm(data[[2]][,data_col], \n",
    "#                                         myStopWords, \n",
    "#                                         controls,\n",
    "#                                         sparse_threshold)))\n",
    "    \n",
    "#     return(list(dtm1 = dtm1, dtm2 = dtm2))\n",
    "#     }\n",
    "\n",
    "########################## Concatenate dtms with class column, then rbind them\n",
    "dtm_combiner = function(dtm1, class_col1, dtm2, class_col2) {\n",
    "    # Add class columns to both dtms, then rbind together\n",
    "    \n",
    "    dtm_combined = rbind(data.frame(dtm1, class_col = class_col1),\n",
    "                         data.frame(dtm2, class_col = class_col2))\n",
    "\n",
    "    return(dtm_combined)\n",
    "    }\n",
    "\n",
    "############################## Split the data frame into two data frames by class value\n",
    "split_df_byClass = function(data, class_col) {\n",
    "    # Split the data by class before building the individual dtms\n",
    "    \n",
    "    class_vals = unique(data[class_col])\n",
    "    df_list = list()\n",
    "    for (i in 1:nrow(class_vals)) {\n",
    "        df_list = append(df_list, list(data[data[[class_col]] == class_vals[i,],]))\n",
    "        }\n",
    "    \n",
    "    return(df_list)\n",
    "    }\n",
    "\n",
    "# ################################## Delete columns from the dtm that are present in more rows than in some % of rows\n",
    "# delete_sparse = function(dtm, sparse_threshold) {\n",
    "#     # Delete columns that where more values than the sparse_threshold are 0\n",
    "    \n",
    "#     if (sparse_threshold > 0) {\n",
    "#         min_doc = (1 - sparse_threshold) * nrow(dtm)\n",
    "#         term_counts = colSums(dtm != 0)\n",
    "#         dtm = dtm[, c(names(term_counts[term_counts > min_doc]))]\n",
    "#     } else {\n",
    "#         print('No terms deleted')\n",
    "#         }\n",
    "    \n",
    "#     return(dtm)\n",
    "#     }\n"
   ]
  },
  {
   "cell_type": "code",
   "execution_count": 44,
   "id": "26ae7085-cd45-4018-9eac-73111aff7a17",
   "metadata": {},
   "outputs": [],
   "source": [
    "run_svm = function(train_dat, test_dat, g, c) {\n",
    "    # Runs and prints custom svm data\n",
    "    my_model = svm(class_col~., \n",
    "                   data = train_dat, \n",
    "                   kernel = 'radial', \n",
    "                   cost = c, \n",
    "                   gamma = g)\n",
    "    \n",
    "    # Predict classes for training data\n",
    "    pred = predict(my_model, subset(test_dat, select = -class_col))\n",
    "\n",
    "    # View the confusion matrix\n",
    "    confmat = table(pred, test_dat$class_col)\n",
    "\n",
    "    # cat('Number of test good reviews: ', nrow(test_dat[test_dat$class_col == 'good',]), '\\n')\n",
    "    # cat('Number of test bad reviews: ', nrow(test_dat[test_dat$class_col == 'bad',]), '\\n\\n')\n",
    "    # cat('0: Bad Review (1-3 stars)\\n1: Good Review(4-5 stars)\\n\\n')\n",
    "    # cat('Columns indicate the class\\nRows indicate predictions\\n')\n",
    "\n",
    "    print(confmat)\n",
    "\n",
    "    ml_stats_2x2(confmat)\n",
    "    \n",
    "    \n",
    "    \n",
    "}\n",
    "\n",
    "ml_stats_2x2 = function(mat) {\n",
    "    # Works for a 2x2 confusion matrix - positive = 1, negative = 0\n",
    "    class = list(mat[,1], rev(mat[,2]))\n",
    "    \n",
    "    #c[1] = # from the class classified correctly\n",
    "    #c[2] = # from the class classified incorrectly\n",
    "    \n",
    "    sum_class = c(sum(class[[1]]), sum(class[[2]]))\n",
    "    \n",
    "    TP = c(class[[1]][1], class[[2]][1])\n",
    "    FP = c(class[[1]][2], class[[2]][2])\n",
    "    \n",
    "    tot_accuracy = c(sum(TP)/sum(sum(TP),sum(FP)), sum(TP)/sum(sum(TP),sum(FP)))\n",
    "    class_accuracy = c(TP[1]/sum_class[1], TP[2]/sum_class[2])\n",
    "    precision = c((TP[1] / (TP[1] + FP[1])), (TP[2] / (TP[2] + FP[2])))\n",
    "    recall = c((TP[1] / (TP[1] + FP[2])), (TP[2] / (TP[2] + FP[1])))\n",
    "    fscore = c( (2 * ((precision[1] * recall[1]) / (precision[1] + recall[1]))),\n",
    "               (2 * ((precision[2] * recall[2]) / (precision[2] + recall[2]))) )\n",
    "    \n",
    "    output = data.frame(sum_class = sum_class,\n",
    "                        tot_accuracy = tot_accuracy,\n",
    "                        class_accuracy = class_accuracy,\n",
    "                        TP = TP, \n",
    "                        FP = FP,\n",
    "                        fscore = fscore,\n",
    "                        precision = precision, \n",
    "                        recall = recall)\n",
    "  \n",
    "  return(output)\n",
    "  \n",
    "}\n",
    "\n",
    "ml_build_dtm = function(data, class_vec, stopWords, controls, doc_freq_threshold, normByDocLength = FALSE) {\n",
    "    \n",
    "    dtm = data.frame(as.matrix(build_dtm(data,\n",
    "                               myStopWords,\n",
    "                               controls)))\n",
    "    dtm = dtm[ ,intersect(colnames(dtm), names(colSums(dtm != 0)[colSums(dtm != 0) > doc_freq_threshold]))]\n",
    "    if (normByDocLength == TRUE) {\n",
    "        dtm = sweep(dtm, MARGIN = 1, STATS = rowSums(dtm) + 1, FUN = '/')\n",
    "        }\n",
    "    dtm = data.frame(dtm, class_col = as.factor(class_vec))\n",
    "    return(dtm)\n",
    "\n",
    "    }\n"
   ]
  },
  {
   "cell_type": "code",
   "execution_count": 45,
   "id": "ee2826dc-89bd-47ae-b5d7-98c5d1239062",
   "metadata": {},
   "outputs": [],
   "source": [
    "### Set constants for (TF only and TFDF) without normalization\n",
    "# Overall\n",
    "seed = 100\n",
    "set.seed(seed)\n",
    "\n",
    "# DTM settings\n",
    "normByDocLength = FALSE\n",
    "stopWords = myStopWords\n",
    "min_freq = 20\n",
    "controls = list(weighting = weightTf, \n",
    "                bounds = list(global = c(min_freq, Inf)), \n",
    "                wordLengths = c(3, 20),\n",
    "                normalize = normByDocLength)\n",
    "doc_freq_threshold = 50\n",
    "\n",
    "### Dataset creation constants + DTM weighting constants\n",
    "train_split_prop = 0.7\n",
    "diff_weight = 1\n",
    "data_class_col = 'class' ### Review classes from the \"raw\" datasets\n",
    "class_col = 'class_col'  ### From the dtms\n",
    "data_col = 'Combined'    ### Review text from the \"raw\" datasets"
   ]
  },
  {
   "cell_type": "code",
   "execution_count": 46,
   "id": "0e32bd2f-eb9d-47a6-ac7e-91ae68b1455f",
   "metadata": {},
   "outputs": [
    {
     "name": "stdout",
     "output_type": "stream",
     "text": [
      "[1] \"Creating base datasets...\"\n",
      "  Base data....Basic data, no preprocessing needed:\n",
      "Done!\n",
      "  Resample data....Resampling data to the lowest:\n",
      "Done!\n",
      "  Bagging data....Bagging data to the highest:\n",
      "Done!\n",
      "\n"
     ]
    }
   ],
   "source": [
    "####################### Create the 3 base datasets - base, resampled, bootstrapped\n",
    "# dataset is df_data2\n",
    "print('Creating base datasets...')\n",
    "\n",
    "cat('  Base data....')\n",
    "base_data = data_preprocess(df_data2)\n",
    "cat('Done!\\n  Resample data....')\n",
    "resample_data = data_preprocess(df_data2, seed = seed, resample = TRUE, class_col = data_class_col)\n",
    "cat('Done!\\n  Bagging data....')\n",
    "bagging_data  = data_preprocess(df_data2, seed = seed, bagging = TRUE, class_col = data_class_col)\n",
    "cat('Done!\\n\\n')\n"
   ]
  },
  {
   "cell_type": "code",
   "execution_count": 47,
   "id": "cbf2346c-4f46-4934-8964-83cf74da705d",
   "metadata": {},
   "outputs": [
    {
     "name": "stdout",
     "output_type": "stream",
     "text": [
      "[1] \"Creating (TF ONLY) DTMs...\"\n",
      "base_dtms\n",
      "Size of Training set: \n",
      "# Rows:  10035 \n",
      "# Cols:  506 \n",
      "Size of Testing set: \n",
      "# Rows:  4302 \n",
      "# Cols:  506 \n",
      "\n",
      "COMPLETE\n",
      "\n",
      "resample_dtms\n",
      "Size of Training set: \n",
      "# Rows:  6909 \n",
      "# Cols:  391 \n",
      "Size of Testing set: \n",
      "# Rows:  2961 \n",
      "# Cols:  391 \n",
      "\n",
      "COMPLETE\n",
      "\n",
      "bagging_dtms\n",
      "Size of Training set: \n",
      "# Rows:  13162 \n",
      "# Cols:  612 \n",
      "Size of Testing set: \n",
      "# Rows:  5642 \n",
      "# Cols:  612 \n",
      "\n",
      "COMPLETE\n",
      "\n"
     ]
    }
   ],
   "source": [
    "####################### Create the DTMs:\n",
    "# TF Only, No normalization by doc length\n",
    "print('Creating (TF ONLY) DTMs...')\n",
    "\n",
    "cat('base_dtms\\n')\n",
    "data = base_data\n",
    "dtm = ml_build_dtm(data[ ,data_col], class_vec = data[[data_class_col]], \n",
    "                   stopWords = myStopWords, controls = controls, doc_freq_threshold = doc_freq_threshold, normByDocLength = normByDocLength)\n",
    "base_dtm = data.frame(dtm) ##################### For TFDF\n",
    "dtms = simple_split(dtm, size = train_split_prop, seed = seed)\n",
    "base_dtm_train = dtms[[1]][sample(nrow(dtms[[1]])), ]\n",
    "base_dtm_test  = dtms[[2]][sample(nrow(dtms[[2]])), ]\n",
    "cat('COMPLETE\\n\\n')\n",
    "\n",
    "cat('resample_dtms\\n')\n",
    "data = resample_data\n",
    "dtm = ml_build_dtm(data[ ,data_col], class_vec = data[[data_class_col]], \n",
    "                   stopWords = myStopWords, controls = controls, doc_freq_threshold = doc_freq_threshold, normByDocLength = normByDocLength)\n",
    "resample_dtm = data.frame(dtm) ##################### For TFDF\n",
    "dtms = simple_split(dtm, size = train_split_prop, seed = seed)\n",
    "resample_dtm_train = dtms[[1]][sample(nrow(dtms[[1]])), ]\n",
    "resample_dtm_test  = dtms[[2]][sample(nrow(dtms[[2]])), ]\n",
    "cat('COMPLETE\\n\\n')\n",
    "\n",
    "cat('bagging_dtms\\n')\n",
    "data = bagging_data\n",
    "dtm = ml_build_dtm(data[ ,data_col], class_vec = data[[data_class_col]], \n",
    "                   stopWords = myStopWords, controls = controls, doc_freq_threshold = doc_freq_threshold, normByDocLength = normByDocLength)\n",
    "bagging_dtm = data.frame(dtm) ##################### For TFDF\n",
    "dtms = simple_split(dtm, size = train_split_prop, seed = seed)\n",
    "bagging_dtm_train = dtms[[1]][sample(nrow(dtms[[1]])), ]\n",
    "bagging_dtm_test  = dtms[[2]][sample(nrow(dtms[[2]])), ]\n",
    "cat('COMPLETE\\n\\n')\n"
   ]
  },
  {
   "cell_type": "code",
   "execution_count": 48,
   "id": "400bcb67-3b2b-46ad-949d-5ba18f66532d",
   "metadata": {},
   "outputs": [
    {
     "name": "stdout",
     "output_type": "stream",
     "text": [
      "[1] \"Creating (custom TF-DF) DTMs...\"\n",
      "base_dtms\n",
      "Size of Training set: \n",
      "# Rows:  10035 \n",
      "# Cols:  506 \n",
      "Size of Testing set: \n",
      "# Rows:  4302 \n",
      "# Cols:  506 \n",
      "\n",
      "COMPLETE\n",
      "\n",
      "reample_dtms\n",
      "Size of Training set: \n",
      "# Rows:  6909 \n",
      "# Cols:  391 \n",
      "Size of Testing set: \n",
      "# Rows:  2961 \n",
      "# Cols:  391 \n",
      "\n",
      "COMPLETE\n",
      "\n",
      "bagging_dtms\n",
      "Size of Training set: \n",
      "# Rows:  13162 \n",
      "# Cols:  612 \n",
      "Size of Testing set: \n",
      "# Rows:  5642 \n",
      "# Cols:  612 \n",
      "\n",
      "COMPLETE\n",
      "\n"
     ]
    }
   ],
   "source": [
    "####################### Create the TFDF DTMs:\n",
    "# TFDF, No normalization by doc length\n",
    "print('Creating (custom TF-DF) DTMs...')\n",
    "\n",
    "cat('base_dtms\\n')\n",
    "dtm = base_dtm\n",
    "dtms_splitClass = split_df_byClass(dtm, class_col)\n",
    "output_tfdf = custom_tfdf(dtms_splitClass[[1]], dtms_splitClass[[2]], class_col = class_col, diff_weight = diff_weight, normByDocLength = normByDocLength)\n",
    "dtm_combined = rbind(output_tfdf[[4]], output_tfdf[[5]] )\n",
    "dtms = simple_split(dtm_combined, size = train_split_prop, seed = seed)\n",
    "base_dtm_tfdf_train = dtms[[1]]\n",
    "base_dtm_tfdf_test = dtms[[2]]\n",
    "cat('COMPLETE\\n\\n')\n",
    "\n",
    "cat('reample_dtms\\n')\n",
    "dtm = resample_dtm\n",
    "dtms_splitClass = split_df_byClass(dtm, class_col)\n",
    "output_tfdf = custom_tfdf(dtms_splitClass[[1]], dtms_splitClass[[2]], class_col = class_col, diff_weight = diff_weight, normByDocLength = normByDocLength)\n",
    "dtm_combined = rbind(output_tfdf[[4]], output_tfdf[[5]] )\n",
    "dtms = simple_split(dtm_combined, size = train_split_prop, seed = seed)\n",
    "resample_dtm_tfdf_train = dtms[[1]]\n",
    "resample_dtm_tfdf_test = dtms[[2]]\n",
    "cat('COMPLETE\\n\\n')\n",
    "\n",
    "cat('bagging_dtms\\n')\n",
    "dtm = bagging_dtm\n",
    "dtms_splitClass = split_df_byClass(dtm, class_col)\n",
    "output_tfdf = custom_tfdf(dtms_splitClass[[1]], dtms_splitClass[[2]], class_col = class_col, diff_weight = diff_weight, normByDocLength = normByDocLength)\n",
    "dtm_combined = rbind(output_tfdf[[4]], output_tfdf[[5]] )\n",
    "dtms = simple_split(dtm_combined, size = train_split_prop, seed = seed)\n",
    "bagging_dtm_tfdf_train = dtms[[1]]\n",
    "bagging_dtm_tfdf_test = dtms[[2]]\n",
    "cat('COMPLETE\\n\\n')\n"
   ]
  },
  {
   "cell_type": "code",
   "execution_count": 49,
   "id": "2dea43b3-500a-424c-9c44-cbfb7ff93599",
   "metadata": {},
   "outputs": [],
   "source": [
    "### Set constants for (TF only and TFDF) + normalizing by wordcount\n",
    "# Overall\n",
    "seed = 100\n",
    "set.seed(seed)\n",
    "\n",
    "# DTM settings\n",
    "normByDocLength = TRUE\n",
    "stopWords = myStopWords\n",
    "min_freq = 20\n",
    "controls = list(weighting = weightTf, \n",
    "                bounds = list(global = c(min_freq, Inf)), \n",
    "                wordLengths = c(3, 20),\n",
    "                normalize = normByDocLength)\n",
    "doc_freq_threshold = 50\n",
    "\n",
    "### Dataset creation constants + DTM weighting constants\n",
    "train_split_prop = 0.7\n",
    "#diff_weight = 10\n",
    "data_class_col = 'class' ### Review classes from the \"raw\" datasets\n",
    "class_col = 'class_col'  ### From the dtms\n",
    "data_col = 'Combined'    ### Review text from the \"raw\" datasets"
   ]
  },
  {
   "cell_type": "code",
   "execution_count": 50,
   "id": "70c9172d-8cd4-448a-aa50-9c67a38b1c52",
   "metadata": {},
   "outputs": [
    {
     "name": "stdout",
     "output_type": "stream",
     "text": [
      "[1] \"Creating base datasets...\"\n",
      "  Base data....Basic data, no preprocessing needed:\n",
      "Done!\n",
      "  Resample data....Resampling data to the lowest:\n",
      "Done!\n",
      "  Bagging data....Bagging data to the highest:\n",
      "Done!\n",
      "\n",
      "[1] \"Creating (TF ONLY) DTMs...\"\n",
      "base_dtms\n",
      "Size of Training set: \n",
      "# Rows:  10035 \n",
      "# Cols:  506 \n",
      "Size of Testing set: \n",
      "# Rows:  4302 \n",
      "# Cols:  506 \n",
      "\n",
      "COMPLETE\n",
      "\n",
      "resample_dtms\n",
      "Size of Training set: \n",
      "# Rows:  6909 \n",
      "# Cols:  391 \n",
      "Size of Testing set: \n",
      "# Rows:  2961 \n",
      "# Cols:  391 \n",
      "\n",
      "COMPLETE\n",
      "\n",
      "bagging_dtms\n",
      "Size of Training set: \n",
      "# Rows:  13162 \n",
      "# Cols:  612 \n",
      "Size of Testing set: \n",
      "# Rows:  5642 \n",
      "# Cols:  612 \n",
      "\n",
      "COMPLETE\n",
      "\n",
      "[1] \"Creating (custom TF-DF) DTMs...\"\n",
      "base_dtms\n",
      "Size of Training set: \n",
      "# Rows:  10035 \n",
      "# Cols:  506 \n",
      "Size of Testing set: \n",
      "# Rows:  4302 \n",
      "# Cols:  506 \n",
      "\n",
      "COMPLETE\n",
      "\n",
      "reample_dtms\n",
      "Size of Training set: \n",
      "# Rows:  6909 \n",
      "# Cols:  391 \n",
      "Size of Testing set: \n",
      "# Rows:  2961 \n",
      "# Cols:  391 \n",
      "\n",
      "COMPLETE\n",
      "\n",
      "bagging_dtms\n",
      "Size of Training set: \n",
      "# Rows:  13162 \n",
      "# Cols:  612 \n",
      "Size of Testing set: \n",
      "# Rows:  5642 \n",
      "# Cols:  612 \n",
      "\n",
      "COMPLETE\n",
      "\n"
     ]
    }
   ],
   "source": [
    "########################## NORMALIZE BY WORD COUNT\n",
    "# Create the 3 base datasets - base, resampled, bootstrapped\n",
    "# dataset is df_data2\n",
    "print('Creating base datasets...')\n",
    "\n",
    "cat('  Base data....')\n",
    "base_data = data_preprocess(df_data2)\n",
    "cat('Done!\\n  Resample data....')\n",
    "resample_data = data_preprocess(df_data2, seed = seed, resample = TRUE, class_col = data_class_col)\n",
    "cat('Done!\\n  Bagging data....')\n",
    "bagging_data  = data_preprocess(df_data2, seed = seed, bagging = TRUE, class_col = data_class_col)\n",
    "cat('Done!\\n\\n')\n",
    "\n",
    "# Create the DTMs: \n",
    "print('Creating (TF ONLY) DTMs...')\n",
    "\n",
    "cat('base_dtms\\n')\n",
    "data = base_data\n",
    "dtm = ml_build_dtm(data[ ,data_col], class_vec = data[[data_class_col]], \n",
    "                   stopWords = myStopWords, controls = controls, doc_freq_threshold = doc_freq_threshold, normByDocLength = normByDocLength)\n",
    "base_dtm = data.frame(dtm) ##################### For TFIDF\n",
    "dtms = simple_split(dtm, size = train_split_prop, seed = seed)\n",
    "base_dtm_norm_train = dtms[[1]][sample(nrow(dtms[[1]])), ]\n",
    "base_dtm_norm_test  = dtms[[2]][sample(nrow(dtms[[2]])), ]\n",
    "cat('COMPLETE\\n\\n')\n",
    "\n",
    "cat('resample_dtms\\n')\n",
    "data = resample_data\n",
    "dtm = ml_build_dtm(data[ ,data_col], class_vec = data[[data_class_col]], \n",
    "                   stopWords = myStopWords, controls = controls, doc_freq_threshold = doc_freq_threshold, normByDocLength = normByDocLength)\n",
    "resample_dtm = data.frame(dtm) ##################### For TFIDF\n",
    "dtms = simple_split(dtm, size = train_split_prop, seed = seed)\n",
    "resample_dtm_norm_train = dtms[[1]][sample(nrow(dtms[[1]])), ]\n",
    "resample_dtm_norm_test  = dtms[[2]][sample(nrow(dtms[[2]])), ]\n",
    "cat('COMPLETE\\n\\n')\n",
    "\n",
    "cat('bagging_dtms\\n')\n",
    "data = bagging_data\n",
    "dtm = ml_build_dtm(data[ ,data_col], class_vec = data[[data_class_col]], \n",
    "                   stopWords = myStopWords, controls = controls, doc_freq_threshold = doc_freq_threshold, normByDocLength = normByDocLength)\n",
    "bagging_dtm = data.frame(dtm) ##################### For TFIDF\n",
    "dtms = simple_split(dtm, size = train_split_prop, seed = seed)\n",
    "bagging_dtm_norm_train = dtms[[1]][sample(nrow(dtms[[1]])), ]\n",
    "bagging_dtm_norm_test  = dtms[[2]][sample(nrow(dtms[[2]])), ]\n",
    "cat('COMPLETE\\n\\n')\n",
    "\n",
    "\n",
    "# Create the 3 TFDF datasets + normalization\n",
    "print('Creating (custom TF-DF) DTMs...')\n",
    "cat('base_dtms\\n')\n",
    "dtm = base_dtm\n",
    "dtms_splitClass = split_df_byClass(dtm, class_col)\n",
    "output_tfdf = custom_tfdf(dtms_splitClass[[1]], dtms_splitClass[[2]], class_col = class_col, diff_weight = diff_weight, normByDocLength = normByDocLength)\n",
    "dtm_combined = rbind(output_tfdf[[4]], output_tfdf[[5]] )\n",
    "dtms = simple_split(dtm_combined, size = train_split_prop, seed = seed)\n",
    "base_dtm_norm_tfdf_train = dtms[[1]]\n",
    "base_dtm_norm_tfdf_test = dtms[[2]]\n",
    "cat('COMPLETE\\n\\n')\n",
    "\n",
    "cat('reample_dtms\\n')\n",
    "dtm = resample_dtm\n",
    "dtms_splitClass = split_df_byClass(dtm, class_col)\n",
    "output_tfdf = custom_tfdf(dtms_splitClass[[1]], dtms_splitClass[[2]], class_col = class_col, diff_weight = diff_weight, normByDocLength = normByDocLength)\n",
    "dtm_combined = rbind(output_tfdf[[4]], output_tfdf[[5]] )\n",
    "dtms = simple_split(dtm_combined, size = train_split_prop, seed = seed)\n",
    "resample_dtm_norm_tfdf_train = dtms[[1]]\n",
    "resample_dtm_norm_tfdf_test = dtms[[2]]\n",
    "cat('COMPLETE\\n\\n')\n",
    "\n",
    "cat('bagging_dtms\\n')\n",
    "dtm = bagging_dtm\n",
    "dtms_splitClass = split_df_byClass(dtm, class_col)\n",
    "output_tfdf = custom_tfdf(dtms_splitClass[[1]], dtms_splitClass[[2]], class_col = class_col, diff_weight = diff_weight, normByDocLength = normByDocLength)\n",
    "dtm_combined = rbind(output_tfdf[[4]], output_tfdf[[5]] )\n",
    "dtms = simple_split(dtm_combined, size = train_split_prop, seed = seed)\n",
    "bagging_dtm_norm_tfdf_train = dtms[[1]]\n",
    "bagging_dtm_norm_tfdf_test = dtms[[2]]\n",
    "cat('COMPLETE\\n\\n')\n",
    "\n"
   ]
  },
  {
   "cell_type": "code",
   "execution_count": 51,
   "id": "ab3d184c-73e8-4b05-8395-ef5333f36be6",
   "metadata": {},
   "outputs": [],
   "source": [
    "# # Create the weighted training DTMs for all 6 variations\n",
    "# # Weighting according to ReviewStar value for semi-supervised learning\n",
    "# class_value_colname = 'ReviewStar'\n",
    "# weight_df = data.frame(class_vals = c(1,2,3,4,5), \n",
    "#                        weights = c(1.25, 1, .5, .5, 1))\n",
    "\n",
    "# print('Creating DTMs weighted according to ReviewStar column values...')\n",
    "# cat('base_dtm_weighted... ')\n",
    "# base_dtm_weighted = weight_by_class(base_dtms[[1]], base_data[[1]], class_value_colname, weight_df)\n",
    "# base_dtm_weighted_train = data.frame(base_dtm_weighted, class_col = unname(base_data[[1]][class_col]))\n",
    "# base_dtm_weighted_train = base_dtm_weighted_train[sample(nrow(base_dtm_weighted_train)),]\n",
    "# base_dtm_weighted_train$class_col = as.factor(base_dtm_weighted_train$class_col)\n",
    "# cat('\\nNumber of docs: ', nrow(base_dtm_weighted_train), '\\nNumber of features: ', ncol(base_dtm_weighted_train) - 1, '\\n')\n",
    "# cat('COMPLETE\\n')\n",
    "\n",
    "# cat('resample_dtm_weighted... ')\n",
    "# resample_dtm_weighted = weight_by_class(resample_dtms[[1]], resample_data[[1]], class_value_colname, weight_df)\n",
    "# resample_dtm_weighted_train = data.frame(resample_dtm_weighted, class_col = unname(resample_data[[1]][class_col]))\n",
    "# resample_dtm_weighted_train = resample_dtm_weighted_train[sample(nrow(resample_dtm_weighted_train)),]\n",
    "# resample_dtm_weighted_train$class_col = as.factor(resample_dtm_weighted_train$class_col)\n",
    "# cat('\\nNumber of docs: ', nrow(resample_dtm_weighted_train), '\\nNumber of features: ', ncol(resample_dtm_weighted_train) - 1, '\\n')\n",
    "# cat('COMPLETE\\n')\n",
    "\n",
    "# cat('bagging_dtm_weighted... ')\n",
    "# bagging_dtm_weighted = weight_by_class(bagging_dtms[[1]], bagging_data[[1]], class_value_colname, weight_df)\n",
    "# bagging_dtm_weighted_train = data.frame(bagging_dtm_weighted, class_col = unname(bagging_data[[1]][class_col]))\n",
    "# bagging_dtm_weighted_train = bagging_dtm_weighted_train[sample(nrow(bagging_dtm_weighted_train)),]\n",
    "# bagging_dtm_weighted_train$class_col = as.factor(bagging_dtm_weighted_train$class_col)\n",
    "# cat('\\nNumber of docs: ', nrow(bagging_dtm_weighted_train), '\\nNumber of features: ', ncol(bagging_dtm_weighted_train) - 1, '\\n')\n",
    "# cat('COMPLETE\\n')\n",
    "\n",
    "# cat('base_dtm_tfidf_weighted... ')\n",
    "# base_dtm_tfidf_weighted = custom_tfidf(weight_by_class(base_dtms_splitClass[[1]], base_data_splitClass[[1]], class_value_colname, weight_df),\n",
    "#                                        weight_by_class(base_dtms_splitClass[[2]], base_data_splitClass[[2]], class_value_colname, weight_df))\n",
    "# base_dtm_tfidf_weighted_train = dtm_combiner(base_dtm_tfidf_weighted[[4]], rep('bad', nrow(base_dtm_tfidf_weighted[[4]])), \n",
    "#                                             base_dtm_tfidf_weighted[[5]], rep('good', nrow(base_dtm_tfidf_weighted[[5]])))\n",
    "# base_dtm_tfidf_weighted_train = delete_sparse(base_dtm_tfidf_weighted_train, sparse_threshold)\n",
    "# base_dtm_tfidf_weighted_train = base_dtm_tfidf_weighted_train[sample(nrow(base_dtm_tfidf_weighted_train)),]\n",
    "# base_dtm_tfidf_weighted_train$class_col = as.factor(base_dtm_tfidf_weighted_train$class_col)\n",
    "# cat('\\nNumber of docs: ', nrow(base_dtm_tfidf_weighted_train), '\\nNumber of features: ', ncol(base_dtm_tfidf_weighted_train) - 1, '\\n')\n",
    "# cat('COMPLETE\\n')\n",
    "\n",
    "# cat('resample_dtm_tfidf_weighted... ')\n",
    "# resample_dtm_tfidf_weighted = custom_tfidf(weight_by_class(resample_dtms_splitClass[[1]], resample_data_splitClass[[1]], class_value_colname, weight_df),\n",
    "#                                            weight_by_class(resample_dtms_splitClass[[2]], resample_data_splitClass[[2]], class_value_colname, weight_df))\n",
    "# resample_dtm_tfidf_weighted_train = dtm_combiner(resample_dtm_tfidf_weighted[[4]], rep('bad', nrow(resample_dtm_tfidf_weighted[[4]])), \n",
    "#                                                 resample_dtm_tfidf_weighted[[5]], rep('good', nrow(resample_dtm_tfidf_weighted[[5]])))\n",
    "# resample_dtm_tfidf_weighted_train = delete_sparse(resample_dtm_tfidf_weighted_train, sparse_threshold)\n",
    "# resample_dtm_tfidf_weighted_train = resample_dtm_tfidf_weighted_train[sample(nrow(resample_dtm_tfidf_weighted_train)),]\n",
    "# resample_dtm_tfidf_weighted_train$class_col = as.factor(resample_dtm_tfidf_weighted_train$class_col)\n",
    "# cat('\\nNumber of docs: ', nrow(resample_dtm_tfidf_weighted_train), '\\nNumber of features: ', ncol(resample_dtm_tfidf_weighted_train) - 1, '\\n')\n",
    "# cat('COMPLETE\\n')\n",
    "\n",
    "# cat('bagging_dtm_tfidf_weighted... ')\n",
    "# bagging_dtm_tfidf_weighted = custom_tfidf(weight_by_class(bagging_dtms_splitClass[[1]], bagging_data_splitClass[[1]], class_value_colname, weight_df),\n",
    "#                                           weight_by_class(bagging_dtms_splitClass[[2]], bagging_data_splitClass[[2]], class_value_colname, weight_df))\n",
    "# bagging_dtm_tfidf_weighted_train = dtm_combiner(bagging_dtm_tfidf_weighted[[4]], rep('bad', nrow(bagging_dtm_tfidf_weighted[[4]])), \n",
    "#                                                bagging_dtm_tfidf_weighted[[5]], rep('good', nrow(bagging_dtm_tfidf_weighted[[5]])))\n",
    "# bagging_dtm_tfidf_weighted_train = delete_sparse(bagging_dtm_tfidf_weighted_train, sparse_threshold)\n",
    "# bagging_dtm_tfidf_weighted_train = bagging_dtm_tfidf_weighted_train[sample(nrow(bagging_dtm_tfidf_weighted_train)),]\n",
    "# bagging_dtm_tfidf_weighted_train$class_col = as.factor(bagging_dtm_tfidf_weighted_train$class_col)\n",
    "# cat('\\nNumber of docs: ', nrow(bagging_dtm_tfidf_weighted_train), '\\nNumber of features: ', ncol(bagging_dtm_tfidf_weighted_train) - 1, '\\n')\n",
    "# cat('COMPLETE\\n')\n"
   ]
  },
  {
   "cell_type": "markdown",
   "id": "77230b51-6efc-4c83-a753-3604f629619a",
   "metadata": {},
   "source": [
    "# RUN COMPARISON TESTS WHERE DIFF_WEIGHT VALUE IS CHANGED\n",
    "\n",
    "# ALSO DO 10 FOLD CROSS VALIDATION VERSION?"
   ]
  },
  {
   "cell_type": "code",
   "execution_count": null,
   "id": "04ee2c52-cc15-465d-be70-26c6fe649f49",
   "metadata": {},
   "outputs": [],
   "source": []
  },
  {
   "cell_type": "code",
   "execution_count": 52,
   "id": "b0c942cc-7ac5-44ce-b633-9d88a4a68389",
   "metadata": {
    "tags": []
   },
   "outputs": [
    {
     "name": "stdout",
     "output_type": "stream",
     "text": [
      "[1] \"Regular class distribution\"\n",
      "[1] \"Base DTM\"\n",
      "      \n",
      "pred    bad good\n",
      "  bad  1179   54\n",
      "  good  295 2774\n"
     ]
    },
    {
     "data": {
      "text/html": [
       "<table>\n",
       "<thead><tr><th></th><th scope=col>sum_class</th><th scope=col>tot_accuracy</th><th scope=col>class_accuracy</th><th scope=col>TP</th><th scope=col>FP</th><th scope=col>fscore</th><th scope=col>precision</th><th scope=col>recall</th></tr></thead>\n",
       "<tbody>\n",
       "\t<tr><th scope=row>bad</th><td>1474     </td><td>0.9188749</td><td>0.7998643</td><td>1179     </td><td>295      </td><td>0.8710750</td><td>0.7998643</td><td>0.9562044</td></tr>\n",
       "\t<tr><th scope=row>good</th><td>2828     </td><td>0.9188749</td><td>0.9809052</td><td>2774     </td><td> 54      </td><td>0.9408174</td><td>0.9809052</td><td>0.9038775</td></tr>\n",
       "</tbody>\n",
       "</table>\n"
      ],
      "text/latex": [
       "\\begin{tabular}{r|llllllll}\n",
       "  & sum\\_class & tot\\_accuracy & class\\_accuracy & TP & FP & fscore & precision & recall\\\\\n",
       "\\hline\n",
       "\tbad & 1474      & 0.9188749 & 0.7998643 & 1179      & 295       & 0.8710750 & 0.7998643 & 0.9562044\\\\\n",
       "\tgood & 2828      & 0.9188749 & 0.9809052 & 2774      &  54       & 0.9408174 & 0.9809052 & 0.9038775\\\\\n",
       "\\end{tabular}\n"
      ],
      "text/markdown": [
       "\n",
       "| <!--/--> | sum_class | tot_accuracy | class_accuracy | TP | FP | fscore | precision | recall |\n",
       "|---|---|---|---|---|---|---|---|---|\n",
       "| bad | 1474      | 0.9188749 | 0.7998643 | 1179      | 295       | 0.8710750 | 0.7998643 | 0.9562044 |\n",
       "| good | 2828      | 0.9188749 | 0.9809052 | 2774      |  54       | 0.9408174 | 0.9809052 | 0.9038775 |\n",
       "\n"
      ],
      "text/plain": [
       "     sum_class tot_accuracy class_accuracy TP   FP  fscore    precision\n",
       "bad  1474      0.9188749    0.7998643      1179 295 0.8710750 0.7998643\n",
       "good 2828      0.9188749    0.9809052      2774  54 0.9408174 0.9809052\n",
       "     recall   \n",
       "bad  0.9562044\n",
       "good 0.9038775"
      ]
     },
     "metadata": {},
     "output_type": "display_data"
    },
    {
     "name": "stdout",
     "output_type": "stream",
     "text": [
      "[1] \"Base TFDF\"\n",
      "      \n",
      "pred    bad good\n",
      "  bad  1299   28\n",
      "  good  179 2796\n"
     ]
    },
    {
     "data": {
      "text/html": [
       "<table>\n",
       "<thead><tr><th></th><th scope=col>sum_class</th><th scope=col>tot_accuracy</th><th scope=col>class_accuracy</th><th scope=col>TP</th><th scope=col>FP</th><th scope=col>fscore</th><th scope=col>precision</th><th scope=col>recall</th></tr></thead>\n",
       "<tbody>\n",
       "\t<tr><th scope=row>bad</th><td>1478     </td><td>0.9518828</td><td>0.8788904</td><td>1299     </td><td>179      </td><td>0.9262032</td><td>0.8788904</td><td>0.9788998</td></tr>\n",
       "\t<tr><th scope=row>good</th><td>2824     </td><td>0.9518828</td><td>0.9900850</td><td>2796     </td><td> 28      </td><td>0.9643042</td><td>0.9900850</td><td>0.9398319</td></tr>\n",
       "</tbody>\n",
       "</table>\n"
      ],
      "text/latex": [
       "\\begin{tabular}{r|llllllll}\n",
       "  & sum\\_class & tot\\_accuracy & class\\_accuracy & TP & FP & fscore & precision & recall\\\\\n",
       "\\hline\n",
       "\tbad & 1478      & 0.9518828 & 0.8788904 & 1299      & 179       & 0.9262032 & 0.8788904 & 0.9788998\\\\\n",
       "\tgood & 2824      & 0.9518828 & 0.9900850 & 2796      &  28       & 0.9643042 & 0.9900850 & 0.9398319\\\\\n",
       "\\end{tabular}\n"
      ],
      "text/markdown": [
       "\n",
       "| <!--/--> | sum_class | tot_accuracy | class_accuracy | TP | FP | fscore | precision | recall |\n",
       "|---|---|---|---|---|---|---|---|---|\n",
       "| bad | 1478      | 0.9518828 | 0.8788904 | 1299      | 179       | 0.9262032 | 0.8788904 | 0.9788998 |\n",
       "| good | 2824      | 0.9518828 | 0.9900850 | 2796      |  28       | 0.9643042 | 0.9900850 | 0.9398319 |\n",
       "\n"
      ],
      "text/plain": [
       "     sum_class tot_accuracy class_accuracy TP   FP  fscore    precision\n",
       "bad  1478      0.9518828    0.8788904      1299 179 0.9262032 0.8788904\n",
       "good 2824      0.9518828    0.9900850      2796  28 0.9643042 0.9900850\n",
       "     recall   \n",
       "bad  0.9788998\n",
       "good 0.9398319"
      ]
     },
     "metadata": {},
     "output_type": "display_data"
    },
    {
     "name": "stdout",
     "output_type": "stream",
     "text": [
      "[1] \"Base DTM norm\"\n",
      "      \n",
      "pred    bad good\n",
      "  bad  1160   30\n",
      "  good  314 2798\n"
     ]
    },
    {
     "data": {
      "text/html": [
       "<table>\n",
       "<thead><tr><th></th><th scope=col>sum_class</th><th scope=col>tot_accuracy</th><th scope=col>class_accuracy</th><th scope=col>TP</th><th scope=col>FP</th><th scope=col>fscore</th><th scope=col>precision</th><th scope=col>recall</th></tr></thead>\n",
       "<tbody>\n",
       "\t<tr><th scope=row>bad</th><td>1474     </td><td>0.9200372</td><td>0.7869742</td><td>1160     </td><td>314      </td><td>0.8708709</td><td>0.7869742</td><td>0.9747899</td></tr>\n",
       "\t<tr><th scope=row>good</th><td>2828     </td><td>0.9200372</td><td>0.9893918</td><td>2798     </td><td> 30      </td><td>0.9420875</td><td>0.9893918</td><td>0.8991003</td></tr>\n",
       "</tbody>\n",
       "</table>\n"
      ],
      "text/latex": [
       "\\begin{tabular}{r|llllllll}\n",
       "  & sum\\_class & tot\\_accuracy & class\\_accuracy & TP & FP & fscore & precision & recall\\\\\n",
       "\\hline\n",
       "\tbad & 1474      & 0.9200372 & 0.7869742 & 1160      & 314       & 0.8708709 & 0.7869742 & 0.9747899\\\\\n",
       "\tgood & 2828      & 0.9200372 & 0.9893918 & 2798      &  30       & 0.9420875 & 0.9893918 & 0.8991003\\\\\n",
       "\\end{tabular}\n"
      ],
      "text/markdown": [
       "\n",
       "| <!--/--> | sum_class | tot_accuracy | class_accuracy | TP | FP | fscore | precision | recall |\n",
       "|---|---|---|---|---|---|---|---|---|\n",
       "| bad | 1474      | 0.9200372 | 0.7869742 | 1160      | 314       | 0.8708709 | 0.7869742 | 0.9747899 |\n",
       "| good | 2828      | 0.9200372 | 0.9893918 | 2798      |  30       | 0.9420875 | 0.9893918 | 0.8991003 |\n",
       "\n"
      ],
      "text/plain": [
       "     sum_class tot_accuracy class_accuracy TP   FP  fscore    precision\n",
       "bad  1474      0.9200372    0.7869742      1160 314 0.8708709 0.7869742\n",
       "good 2828      0.9200372    0.9893918      2798  30 0.9420875 0.9893918\n",
       "     recall   \n",
       "bad  0.9747899\n",
       "good 0.8991003"
      ]
     },
     "metadata": {},
     "output_type": "display_data"
    },
    {
     "name": "stdout",
     "output_type": "stream",
     "text": [
      "[1] \"Base DTM norm TFDF\"\n",
      "      \n",
      "pred    bad good\n",
      "  bad  1297   29\n",
      "  good  181 2795\n"
     ]
    },
    {
     "data": {
      "text/html": [
       "<table>\n",
       "<thead><tr><th></th><th scope=col>sum_class</th><th scope=col>tot_accuracy</th><th scope=col>class_accuracy</th><th scope=col>TP</th><th scope=col>FP</th><th scope=col>fscore</th><th scope=col>precision</th><th scope=col>recall</th></tr></thead>\n",
       "<tbody>\n",
       "\t<tr><th scope=row>bad</th><td>1478     </td><td>0.9511855</td><td>0.8775372</td><td>1297     </td><td>181      </td><td>0.9251070</td><td>0.8775372</td><td>0.9781297</td></tr>\n",
       "\t<tr><th scope=row>good</th><td>2824     </td><td>0.9511855</td><td>0.9897309</td><td>2795     </td><td> 29      </td><td>0.9637931</td><td>0.9897309</td><td>0.9391801</td></tr>\n",
       "</tbody>\n",
       "</table>\n"
      ],
      "text/latex": [
       "\\begin{tabular}{r|llllllll}\n",
       "  & sum\\_class & tot\\_accuracy & class\\_accuracy & TP & FP & fscore & precision & recall\\\\\n",
       "\\hline\n",
       "\tbad & 1478      & 0.9511855 & 0.8775372 & 1297      & 181       & 0.9251070 & 0.8775372 & 0.9781297\\\\\n",
       "\tgood & 2824      & 0.9511855 & 0.9897309 & 2795      &  29       & 0.9637931 & 0.9897309 & 0.9391801\\\\\n",
       "\\end{tabular}\n"
      ],
      "text/markdown": [
       "\n",
       "| <!--/--> | sum_class | tot_accuracy | class_accuracy | TP | FP | fscore | precision | recall |\n",
       "|---|---|---|---|---|---|---|---|---|\n",
       "| bad | 1478      | 0.9511855 | 0.8775372 | 1297      | 181       | 0.9251070 | 0.8775372 | 0.9781297 |\n",
       "| good | 2824      | 0.9511855 | 0.9897309 | 2795      |  29       | 0.9637931 | 0.9897309 | 0.9391801 |\n",
       "\n"
      ],
      "text/plain": [
       "     sum_class tot_accuracy class_accuracy TP   FP  fscore    precision\n",
       "bad  1478      0.9511855    0.8775372      1297 181 0.9251070 0.8775372\n",
       "good 2824      0.9511855    0.9897309      2795  29 0.9637931 0.9897309\n",
       "     recall   \n",
       "bad  0.9781297\n",
       "good 0.9391801"
      ]
     },
     "metadata": {},
     "output_type": "display_data"
    }
   ],
   "source": [
    "# base comparisons\n",
    "g = 0.01\n",
    "c = 2.1\n",
    "\n",
    "print('Regular class distribution')\n",
    "print('Base DTM')\n",
    "run_svm(base_dtm_train, base_dtm_test, g, c)\n",
    "print('Base TFDF')\n",
    "run_svm(base_dtm_tfdf_train, base_dtm_tfdf_test, g, c)\n",
    "print('Base DTM norm')\n",
    "run_svm(base_dtm_norm_train, base_dtm_norm_test, g, c)\n",
    "print('Base DTM norm TFDF')\n",
    "run_svm(base_dtm_norm_tfdf_train, base_dtm_norm_tfdf_test, g, c)"
   ]
  },
  {
   "cell_type": "code",
   "execution_count": 53,
   "id": "d9e8f68c-d1da-4389-aaa3-f402f277c802",
   "metadata": {},
   "outputs": [
    {
     "name": "stdout",
     "output_type": "stream",
     "text": [
      "[1] \"Resampled class distribution\"\n",
      "[1] \"Resampled DTM\"\n",
      "      \n",
      "pred    bad good\n",
      "  bad  1413  654\n",
      "  good   61 2174\n"
     ]
    },
    {
     "data": {
      "text/html": [
       "<table>\n",
       "<thead><tr><th></th><th scope=col>sum_class</th><th scope=col>tot_accuracy</th><th scope=col>class_accuracy</th><th scope=col>TP</th><th scope=col>FP</th><th scope=col>fscore</th><th scope=col>precision</th><th scope=col>recall</th></tr></thead>\n",
       "<tbody>\n",
       "\t<tr><th scope=row>bad</th><td>1474     </td><td>0.8337982</td><td>0.9586160</td><td>1413     </td><td> 61      </td><td>0.7980796</td><td>0.9586160</td><td>0.6835994</td></tr>\n",
       "\t<tr><th scope=row>good</th><td>2828     </td><td>0.8337982</td><td>0.7687412</td><td>2174     </td><td>654      </td><td>0.8587794</td><td>0.7687412</td><td>0.9727069</td></tr>\n",
       "</tbody>\n",
       "</table>\n"
      ],
      "text/latex": [
       "\\begin{tabular}{r|llllllll}\n",
       "  & sum\\_class & tot\\_accuracy & class\\_accuracy & TP & FP & fscore & precision & recall\\\\\n",
       "\\hline\n",
       "\tbad & 1474      & 0.8337982 & 0.9586160 & 1413      &  61       & 0.7980796 & 0.9586160 & 0.6835994\\\\\n",
       "\tgood & 2828      & 0.8337982 & 0.7687412 & 2174      & 654       & 0.8587794 & 0.7687412 & 0.9727069\\\\\n",
       "\\end{tabular}\n"
      ],
      "text/markdown": [
       "\n",
       "| <!--/--> | sum_class | tot_accuracy | class_accuracy | TP | FP | fscore | precision | recall |\n",
       "|---|---|---|---|---|---|---|---|---|\n",
       "| bad | 1474      | 0.8337982 | 0.9586160 | 1413      |  61       | 0.7980796 | 0.9586160 | 0.6835994 |\n",
       "| good | 2828      | 0.8337982 | 0.7687412 | 2174      | 654       | 0.8587794 | 0.7687412 | 0.9727069 |\n",
       "\n"
      ],
      "text/plain": [
       "     sum_class tot_accuracy class_accuracy TP   FP  fscore    precision\n",
       "bad  1474      0.8337982    0.9586160      1413  61 0.7980796 0.9586160\n",
       "good 2828      0.8337982    0.7687412      2174 654 0.8587794 0.7687412\n",
       "     recall   \n",
       "bad  0.6835994\n",
       "good 0.9727069"
      ]
     },
     "metadata": {},
     "output_type": "display_data"
    },
    {
     "name": "stdout",
     "output_type": "stream",
     "text": [
      "[1] \"Resampled TFDF\"\n",
      "      \n",
      "pred    bad good\n",
      "  bad  1475 1550\n",
      "  good    3 1274\n"
     ]
    },
    {
     "data": {
      "text/html": [
       "<table>\n",
       "<thead><tr><th></th><th scope=col>sum_class</th><th scope=col>tot_accuracy</th><th scope=col>class_accuracy</th><th scope=col>TP</th><th scope=col>FP</th><th scope=col>fscore</th><th scope=col>precision</th><th scope=col>recall</th></tr></thead>\n",
       "<tbody>\n",
       "\t<tr><th scope=row>bad</th><td>1478     </td><td>0.6390051</td><td>0.9979702</td><td>1475     </td><td>   3     </td><td>0.6551188</td><td>0.9979702</td><td>0.4876033</td></tr>\n",
       "\t<tr><th scope=row>good</th><td>2824     </td><td>0.6390051</td><td>0.4511331</td><td>1274     </td><td>1550     </td><td>0.6213119</td><td>0.4511331</td><td>0.9976507</td></tr>\n",
       "</tbody>\n",
       "</table>\n"
      ],
      "text/latex": [
       "\\begin{tabular}{r|llllllll}\n",
       "  & sum\\_class & tot\\_accuracy & class\\_accuracy & TP & FP & fscore & precision & recall\\\\\n",
       "\\hline\n",
       "\tbad & 1478      & 0.6390051 & 0.9979702 & 1475      &    3      & 0.6551188 & 0.9979702 & 0.4876033\\\\\n",
       "\tgood & 2824      & 0.6390051 & 0.4511331 & 1274      & 1550      & 0.6213119 & 0.4511331 & 0.9976507\\\\\n",
       "\\end{tabular}\n"
      ],
      "text/markdown": [
       "\n",
       "| <!--/--> | sum_class | tot_accuracy | class_accuracy | TP | FP | fscore | precision | recall |\n",
       "|---|---|---|---|---|---|---|---|---|\n",
       "| bad | 1478      | 0.6390051 | 0.9979702 | 1475      |    3      | 0.6551188 | 0.9979702 | 0.4876033 |\n",
       "| good | 2824      | 0.6390051 | 0.4511331 | 1274      | 1550      | 0.6213119 | 0.4511331 | 0.9976507 |\n",
       "\n"
      ],
      "text/plain": [
       "     sum_class tot_accuracy class_accuracy TP   FP   fscore    precision\n",
       "bad  1478      0.6390051    0.9979702      1475    3 0.6551188 0.9979702\n",
       "good 2824      0.6390051    0.4511331      1274 1550 0.6213119 0.4511331\n",
       "     recall   \n",
       "bad  0.4876033\n",
       "good 0.9976507"
      ]
     },
     "metadata": {},
     "output_type": "display_data"
    },
    {
     "name": "stdout",
     "output_type": "stream",
     "text": [
      "[1] \"Resampled DTM norm\"\n",
      "      \n",
      "pred    bad good\n",
      "  bad  1393  588\n",
      "  good   81 2240\n"
     ]
    },
    {
     "data": {
      "text/html": [
       "<table>\n",
       "<thead><tr><th></th><th scope=col>sum_class</th><th scope=col>tot_accuracy</th><th scope=col>class_accuracy</th><th scope=col>TP</th><th scope=col>FP</th><th scope=col>fscore</th><th scope=col>precision</th><th scope=col>recall</th></tr></thead>\n",
       "<tbody>\n",
       "\t<tr><th scope=row>bad</th><td>1474     </td><td>0.8444909</td><td>0.9450475</td><td>1393     </td><td> 81      </td><td>0.8063676</td><td>0.9450475</td><td>0.7031802</td></tr>\n",
       "\t<tr><th scope=row>good</th><td>2828     </td><td>0.8444909</td><td>0.7920792</td><td>2240     </td><td>588      </td><td>0.8700719</td><td>0.7920792</td><td>0.9651012</td></tr>\n",
       "</tbody>\n",
       "</table>\n"
      ],
      "text/latex": [
       "\\begin{tabular}{r|llllllll}\n",
       "  & sum\\_class & tot\\_accuracy & class\\_accuracy & TP & FP & fscore & precision & recall\\\\\n",
       "\\hline\n",
       "\tbad & 1474      & 0.8444909 & 0.9450475 & 1393      &  81       & 0.8063676 & 0.9450475 & 0.7031802\\\\\n",
       "\tgood & 2828      & 0.8444909 & 0.7920792 & 2240      & 588       & 0.8700719 & 0.7920792 & 0.9651012\\\\\n",
       "\\end{tabular}\n"
      ],
      "text/markdown": [
       "\n",
       "| <!--/--> | sum_class | tot_accuracy | class_accuracy | TP | FP | fscore | precision | recall |\n",
       "|---|---|---|---|---|---|---|---|---|\n",
       "| bad | 1474      | 0.8444909 | 0.9450475 | 1393      |  81       | 0.8063676 | 0.9450475 | 0.7031802 |\n",
       "| good | 2828      | 0.8444909 | 0.7920792 | 2240      | 588       | 0.8700719 | 0.7920792 | 0.9651012 |\n",
       "\n"
      ],
      "text/plain": [
       "     sum_class tot_accuracy class_accuracy TP   FP  fscore    precision\n",
       "bad  1474      0.8444909    0.9450475      1393  81 0.8063676 0.9450475\n",
       "good 2828      0.8444909    0.7920792      2240 588 0.8700719 0.7920792\n",
       "     recall   \n",
       "bad  0.7031802\n",
       "good 0.9651012"
      ]
     },
     "metadata": {},
     "output_type": "display_data"
    },
    {
     "name": "stdout",
     "output_type": "stream",
     "text": [
      "[1] \"Resampled DTM norm TFDF\"\n",
      "      \n",
      "pred    bad good\n",
      "  bad  1475 1665\n",
      "  good    3 1159\n"
     ]
    },
    {
     "data": {
      "text/html": [
       "<table>\n",
       "<thead><tr><th></th><th scope=col>sum_class</th><th scope=col>tot_accuracy</th><th scope=col>class_accuracy</th><th scope=col>TP</th><th scope=col>FP</th><th scope=col>fscore</th><th scope=col>precision</th><th scope=col>recall</th></tr></thead>\n",
       "<tbody>\n",
       "\t<tr><th scope=row>bad</th><td>1478     </td><td>0.6122734</td><td>0.9979702</td><td>1475     </td><td>   3     </td><td>0.6388047</td><td>0.9979702</td><td>0.4697452</td></tr>\n",
       "\t<tr><th scope=row>good</th><td>2824     </td><td>0.6122734</td><td>0.4104108</td><td>1159     </td><td>1665     </td><td>0.5815354</td><td>0.4104108</td><td>0.9974182</td></tr>\n",
       "</tbody>\n",
       "</table>\n"
      ],
      "text/latex": [
       "\\begin{tabular}{r|llllllll}\n",
       "  & sum\\_class & tot\\_accuracy & class\\_accuracy & TP & FP & fscore & precision & recall\\\\\n",
       "\\hline\n",
       "\tbad & 1478      & 0.6122734 & 0.9979702 & 1475      &    3      & 0.6388047 & 0.9979702 & 0.4697452\\\\\n",
       "\tgood & 2824      & 0.6122734 & 0.4104108 & 1159      & 1665      & 0.5815354 & 0.4104108 & 0.9974182\\\\\n",
       "\\end{tabular}\n"
      ],
      "text/markdown": [
       "\n",
       "| <!--/--> | sum_class | tot_accuracy | class_accuracy | TP | FP | fscore | precision | recall |\n",
       "|---|---|---|---|---|---|---|---|---|\n",
       "| bad | 1478      | 0.6122734 | 0.9979702 | 1475      |    3      | 0.6388047 | 0.9979702 | 0.4697452 |\n",
       "| good | 2824      | 0.6122734 | 0.4104108 | 1159      | 1665      | 0.5815354 | 0.4104108 | 0.9974182 |\n",
       "\n"
      ],
      "text/plain": [
       "     sum_class tot_accuracy class_accuracy TP   FP   fscore    precision\n",
       "bad  1478      0.6122734    0.9979702      1475    3 0.6388047 0.9979702\n",
       "good 2824      0.6122734    0.4104108      1159 1665 0.5815354 0.4104108\n",
       "     recall   \n",
       "bad  0.4697452\n",
       "good 0.9974182"
      ]
     },
     "metadata": {},
     "output_type": "display_data"
    }
   ],
   "source": [
    "# base comparisons\n",
    "g = 0.01\n",
    "c = 2.1\n",
    "\n",
    "print('Resampled class distribution')\n",
    "print('Resampled DTM')\n",
    "run_svm(resample_dtm_train, base_dtm_test, g, c)\n",
    "print('Resampled TFDF')\n",
    "run_svm(resample_dtm_tfdf_train, base_dtm_tfdf_test, g, c)\n",
    "print('Resampled DTM norm')\n",
    "run_svm(resample_dtm_norm_train, base_dtm_norm_test, g, c)\n",
    "print('Resampled DTM norm TFDF')\n",
    "run_svm(resample_dtm_norm_tfdf_train, base_dtm_norm_tfdf_test, g, c)"
   ]
  },
  {
   "cell_type": "code",
   "execution_count": 54,
   "id": "5ee4d465-f31f-410b-b3ad-004a341e3622",
   "metadata": {},
   "outputs": [
    {
     "name": "stdout",
     "output_type": "stream",
     "text": [
      "[1] \"Bagging class distribution\"\n",
      "[1] \"Bagging DTM\"\n",
      "      \n",
      "pred    bad good\n",
      "  bad  2597   53\n",
      "  good  202 2790\n"
     ]
    },
    {
     "data": {
      "text/html": [
       "<table>\n",
       "<thead><tr><th></th><th scope=col>sum_class</th><th scope=col>tot_accuracy</th><th scope=col>class_accuracy</th><th scope=col>TP</th><th scope=col>FP</th><th scope=col>fscore</th><th scope=col>precision</th><th scope=col>recall</th></tr></thead>\n",
       "<tbody>\n",
       "\t<tr><th scope=row>bad</th><td>2799     </td><td>0.9548033</td><td>0.9278314</td><td>2597     </td><td>202      </td><td>0.9532024</td><td>0.9278314</td><td>0.9800000</td></tr>\n",
       "\t<tr><th scope=row>good</th><td>2843     </td><td>0.9548033</td><td>0.9813577</td><td>2790     </td><td> 53      </td><td>0.9562982</td><td>0.9813577</td><td>0.9324866</td></tr>\n",
       "</tbody>\n",
       "</table>\n"
      ],
      "text/latex": [
       "\\begin{tabular}{r|llllllll}\n",
       "  & sum\\_class & tot\\_accuracy & class\\_accuracy & TP & FP & fscore & precision & recall\\\\\n",
       "\\hline\n",
       "\tbad & 2799      & 0.9548033 & 0.9278314 & 2597      & 202       & 0.9532024 & 0.9278314 & 0.9800000\\\\\n",
       "\tgood & 2843      & 0.9548033 & 0.9813577 & 2790      &  53       & 0.9562982 & 0.9813577 & 0.9324866\\\\\n",
       "\\end{tabular}\n"
      ],
      "text/markdown": [
       "\n",
       "| <!--/--> | sum_class | tot_accuracy | class_accuracy | TP | FP | fscore | precision | recall |\n",
       "|---|---|---|---|---|---|---|---|---|\n",
       "| bad | 2799      | 0.9548033 | 0.9278314 | 2597      | 202       | 0.9532024 | 0.9278314 | 0.9800000 |\n",
       "| good | 2843      | 0.9548033 | 0.9813577 | 2790      |  53       | 0.9562982 | 0.9813577 | 0.9324866 |\n",
       "\n"
      ],
      "text/plain": [
       "     sum_class tot_accuracy class_accuracy TP   FP  fscore    precision\n",
       "bad  2799      0.9548033    0.9278314      2597 202 0.9532024 0.9278314\n",
       "good 2843      0.9548033    0.9813577      2790  53 0.9562982 0.9813577\n",
       "     recall   \n",
       "bad  0.9800000\n",
       "good 0.9324866"
      ]
     },
     "metadata": {},
     "output_type": "display_data"
    },
    {
     "name": "stdout",
     "output_type": "stream",
     "text": [
      "[1] \"Bagging TFDF\"\n",
      "      \n",
      "pred    bad good\n",
      "  bad  2671   39\n",
      "  good  128 2804\n"
     ]
    },
    {
     "data": {
      "text/html": [
       "<table>\n",
       "<thead><tr><th></th><th scope=col>sum_class</th><th scope=col>tot_accuracy</th><th scope=col>class_accuracy</th><th scope=col>TP</th><th scope=col>FP</th><th scope=col>fscore</th><th scope=col>precision</th><th scope=col>recall</th></tr></thead>\n",
       "<tbody>\n",
       "\t<tr><th scope=row>bad</th><td>2799     </td><td>0.9704006</td><td>0.9542694</td><td>2671     </td><td>128      </td><td>0.9696860</td><td>0.9542694</td><td>0.9856089</td></tr>\n",
       "\t<tr><th scope=row>good</th><td>2843     </td><td>0.9704006</td><td>0.9862821</td><td>2804     </td><td> 39      </td><td>0.9710823</td><td>0.9862821</td><td>0.9563438</td></tr>\n",
       "</tbody>\n",
       "</table>\n"
      ],
      "text/latex": [
       "\\begin{tabular}{r|llllllll}\n",
       "  & sum\\_class & tot\\_accuracy & class\\_accuracy & TP & FP & fscore & precision & recall\\\\\n",
       "\\hline\n",
       "\tbad & 2799      & 0.9704006 & 0.9542694 & 2671      & 128       & 0.9696860 & 0.9542694 & 0.9856089\\\\\n",
       "\tgood & 2843      & 0.9704006 & 0.9862821 & 2804      &  39       & 0.9710823 & 0.9862821 & 0.9563438\\\\\n",
       "\\end{tabular}\n"
      ],
      "text/markdown": [
       "\n",
       "| <!--/--> | sum_class | tot_accuracy | class_accuracy | TP | FP | fscore | precision | recall |\n",
       "|---|---|---|---|---|---|---|---|---|\n",
       "| bad | 2799      | 0.9704006 | 0.9542694 | 2671      | 128       | 0.9696860 | 0.9542694 | 0.9856089 |\n",
       "| good | 2843      | 0.9704006 | 0.9862821 | 2804      |  39       | 0.9710823 | 0.9862821 | 0.9563438 |\n",
       "\n"
      ],
      "text/plain": [
       "     sum_class tot_accuracy class_accuracy TP   FP  fscore    precision\n",
       "bad  2799      0.9704006    0.9542694      2671 128 0.9696860 0.9542694\n",
       "good 2843      0.9704006    0.9862821      2804  39 0.9710823 0.9862821\n",
       "     recall   \n",
       "bad  0.9856089\n",
       "good 0.9563438"
      ]
     },
     "metadata": {},
     "output_type": "display_data"
    },
    {
     "name": "stdout",
     "output_type": "stream",
     "text": [
      "[1] \"Bagging DTM norm\"\n",
      "      \n",
      "pred    bad good\n",
      "  bad  2600   28\n",
      "  good  199 2815\n"
     ]
    },
    {
     "data": {
      "text/html": [
       "<table>\n",
       "<thead><tr><th></th><th scope=col>sum_class</th><th scope=col>tot_accuracy</th><th scope=col>class_accuracy</th><th scope=col>TP</th><th scope=col>FP</th><th scope=col>fscore</th><th scope=col>precision</th><th scope=col>recall</th></tr></thead>\n",
       "<tbody>\n",
       "\t<tr><th scope=row>bad</th><td>2799     </td><td>0.959766 </td><td>0.9289032</td><td>2600     </td><td>199      </td><td>0.9581721</td><td>0.9289032</td><td>0.9893455</td></tr>\n",
       "\t<tr><th scope=row>good</th><td>2843     </td><td>0.959766 </td><td>0.9901512</td><td>2815     </td><td> 28      </td><td>0.9612430</td><td>0.9901512</td><td>0.9339748</td></tr>\n",
       "</tbody>\n",
       "</table>\n"
      ],
      "text/latex": [
       "\\begin{tabular}{r|llllllll}\n",
       "  & sum\\_class & tot\\_accuracy & class\\_accuracy & TP & FP & fscore & precision & recall\\\\\n",
       "\\hline\n",
       "\tbad & 2799      & 0.959766  & 0.9289032 & 2600      & 199       & 0.9581721 & 0.9289032 & 0.9893455\\\\\n",
       "\tgood & 2843      & 0.959766  & 0.9901512 & 2815      &  28       & 0.9612430 & 0.9901512 & 0.9339748\\\\\n",
       "\\end{tabular}\n"
      ],
      "text/markdown": [
       "\n",
       "| <!--/--> | sum_class | tot_accuracy | class_accuracy | TP | FP | fscore | precision | recall |\n",
       "|---|---|---|---|---|---|---|---|---|\n",
       "| bad | 2799      | 0.959766  | 0.9289032 | 2600      | 199       | 0.9581721 | 0.9289032 | 0.9893455 |\n",
       "| good | 2843      | 0.959766  | 0.9901512 | 2815      |  28       | 0.9612430 | 0.9901512 | 0.9339748 |\n",
       "\n"
      ],
      "text/plain": [
       "     sum_class tot_accuracy class_accuracy TP   FP  fscore    precision\n",
       "bad  2799      0.959766     0.9289032      2600 199 0.9581721 0.9289032\n",
       "good 2843      0.959766     0.9901512      2815  28 0.9612430 0.9901512\n",
       "     recall   \n",
       "bad  0.9893455\n",
       "good 0.9339748"
      ]
     },
     "metadata": {},
     "output_type": "display_data"
    },
    {
     "name": "stdout",
     "output_type": "stream",
     "text": [
      "[1] \"Bagging DTM norm TFDF\"\n",
      "      \n",
      "pred    bad good\n",
      "  bad  2791   60\n",
      "  good    8 2783\n"
     ]
    },
    {
     "data": {
      "text/html": [
       "<table>\n",
       "<thead><tr><th></th><th scope=col>sum_class</th><th scope=col>tot_accuracy</th><th scope=col>class_accuracy</th><th scope=col>TP</th><th scope=col>FP</th><th scope=col>fscore</th><th scope=col>precision</th><th scope=col>recall</th></tr></thead>\n",
       "<tbody>\n",
       "\t<tr><th scope=row>bad</th><td>2799     </td><td>0.9879475</td><td>0.9971418</td><td>2791     </td><td> 8       </td><td>0.9879646</td><td>0.9971418</td><td>0.9789548</td></tr>\n",
       "\t<tr><th scope=row>good</th><td>2843     </td><td>0.9879475</td><td>0.9788955</td><td>2783     </td><td>60       </td><td>0.9879304</td><td>0.9788955</td><td>0.9971336</td></tr>\n",
       "</tbody>\n",
       "</table>\n"
      ],
      "text/latex": [
       "\\begin{tabular}{r|llllllll}\n",
       "  & sum\\_class & tot\\_accuracy & class\\_accuracy & TP & FP & fscore & precision & recall\\\\\n",
       "\\hline\n",
       "\tbad & 2799      & 0.9879475 & 0.9971418 & 2791      &  8        & 0.9879646 & 0.9971418 & 0.9789548\\\\\n",
       "\tgood & 2843      & 0.9879475 & 0.9788955 & 2783      & 60        & 0.9879304 & 0.9788955 & 0.9971336\\\\\n",
       "\\end{tabular}\n"
      ],
      "text/markdown": [
       "\n",
       "| <!--/--> | sum_class | tot_accuracy | class_accuracy | TP | FP | fscore | precision | recall |\n",
       "|---|---|---|---|---|---|---|---|---|\n",
       "| bad | 2799      | 0.9879475 | 0.9971418 | 2791      |  8        | 0.9879646 | 0.9971418 | 0.9789548 |\n",
       "| good | 2843      | 0.9879475 | 0.9788955 | 2783      | 60        | 0.9879304 | 0.9788955 | 0.9971336 |\n",
       "\n"
      ],
      "text/plain": [
       "     sum_class tot_accuracy class_accuracy TP   FP fscore    precision\n",
       "bad  2799      0.9879475    0.9971418      2791  8 0.9879646 0.9971418\n",
       "good 2843      0.9879475    0.9788955      2783 60 0.9879304 0.9788955\n",
       "     recall   \n",
       "bad  0.9789548\n",
       "good 0.9971336"
      ]
     },
     "metadata": {},
     "output_type": "display_data"
    }
   ],
   "source": [
    "# base comparisons\n",
    "g = 0.01\n",
    "c = 2.1\n",
    "\n",
    "print('Bagging class distribution')\n",
    "print('Bagging DTM')\n",
    "run_svm(bagging_dtm_train, bagging_dtm_test, g, c)\n",
    "print('Bagging TFDF')\n",
    "run_svm(bagging_dtm_tfdf_train, bagging_dtm_tfdf_test, g, c)\n",
    "print('Bagging DTM norm')\n",
    "run_svm(bagging_dtm_norm_train, bagging_dtm_norm_test, g, c)\n",
    "print('Bagging DTM norm TFDF')\n",
    "run_svm(bagging_dtm_norm_tfdf_train, bagging_dtm_norm_tfdf_test, g, c)"
   ]
  },
  {
   "cell_type": "code",
   "execution_count": 27,
   "id": "2b914b8d-6db9-4a5d-8549-38ac9bb5adbb",
   "metadata": {},
   "outputs": [
    {
     "data": {
      "text/html": [
       "52"
      ],
      "text/latex": [
       "52"
      ],
      "text/markdown": [
       "52"
      ],
      "text/plain": [
       "[1] 52"
      ]
     },
     "metadata": {},
     "output_type": "display_data"
    },
    {
     "data": {
      "text/html": [
       "15"
      ],
      "text/latex": [
       "15"
      ],
      "text/markdown": [
       "15"
      ],
      "text/plain": [
       "[1] 15"
      ]
     },
     "metadata": {},
     "output_type": "display_data"
    },
    {
     "data": {
      "text/html": [
       "'data.frame'"
      ],
      "text/latex": [
       "'data.frame'"
      ],
      "text/markdown": [
       "'data.frame'"
      ],
      "text/plain": [
       "[1] \"data.frame\""
      ]
     },
     "metadata": {},
     "output_type": "display_data"
    },
    {
     "data": {
      "text/html": [
       "'data.frame'"
      ],
      "text/latex": [
       "'data.frame'"
      ],
      "text/markdown": [
       "'data.frame'"
      ],
      "text/plain": [
       "[1] \"data.frame\""
      ]
     },
     "metadata": {},
     "output_type": "display_data"
    },
    {
     "data": {
      "text/html": [
       "'data.frame'"
      ],
      "text/latex": [
       "'data.frame'"
      ],
      "text/markdown": [
       "'data.frame'"
      ],
      "text/plain": [
       "[1] \"data.frame\""
      ]
     },
     "metadata": {},
     "output_type": "display_data"
    },
    {
     "data": {
      "text/html": [
       "'data.frame'"
      ],
      "text/latex": [
       "'data.frame'"
      ],
      "text/markdown": [
       "'data.frame'"
      ],
      "text/plain": [
       "[1] \"data.frame\""
      ]
     },
     "metadata": {},
     "output_type": "display_data"
    }
   ],
   "source": [
    "#setdiff(names(bagging_dtm_train), names(bagging_dtm_test))\n",
    "sum(bagging_dtm_train[ , 'accord'])\n",
    "sum(bagging_dtm_test[ , 'accord'])\n",
    "\n",
    "class(base_dtm_train)\n",
    "class(base_dtm_test)\n",
    "class(bagging_dtm_train)\n",
    "class(bagging_dtm_test)"
   ]
  },
  {
   "cell_type": "code",
   "execution_count": null,
   "id": "3b88337b-a456-4642-abba-29fbbde27782",
   "metadata": {
    "tags": []
   },
   "outputs": [],
   "source": [
    "# # DIFF_WEIGHT SET TO 1\n",
    "# # Create the training DTMs with custom TF-IDF weighting\n",
    "# class_col = 'class_col'\n",
    "# data_col = 'Combined'\n",
    "\n",
    "# stopWords = myStopWords\n",
    "# controls = list(weighting = weightTf, \n",
    "#                 bounds = list(global = c(10, Inf)), \n",
    "#                 wordLengths = c(3, 15), \n",
    "#                 normalize = TRUE)\n",
    "# scale = c(0,1)\n",
    "# diff_weight = 1 #100\n",
    "# doc_freq_threshold = 50\n",
    "# seed = 100\n",
    "\n",
    "# set.seed(seed)\n",
    "\n",
    "# # Create the DTMs: No cutting sparse terms for test dtms to maximize information\n",
    "# print('Creating (custom TF-IDF) DTMs...')\n",
    "# cat('base_dtms\\n')\n",
    "# dtm = base_dtm\n",
    "# dtms_splitClass = split_df_byClass(dtm, class_col)\n",
    "# output_tfidf = custom_tfidf(dtms_splitClass[[1]], dtms_splitClass[[2]], class_col = class_col, scale = scale, diff_weight = diff_weight)\n",
    "# dtm_combined = rbind(output_tfidf[[4]], output_tfidf[[5]] )\n",
    "# # dtm_combined[class_col] = as.factor(dtm_combined[class_col])\n",
    "# dtms = simple_split(dtm_combined, size = train_split_prop, seed = seed)\n",
    "# base_dtm_tfidf_train = dtms[[1]]\n",
    "# base_dtm_tfidf_test = dtms[[2]]\n",
    "# cat('COMPLETE\\n\\n')\n",
    "\n",
    "# print('TFIDF weighting')\n",
    "# cat('Base DTM, custom TFIDF\\n')\n",
    "# run_svm(base_dtm_tfidf_train, base_dtm_tfidf_test, g, c)\n"
   ]
  },
  {
   "cell_type": "code",
   "execution_count": null,
   "id": "72ce0d51-3302-4098-864e-04316f912169",
   "metadata": {},
   "outputs": [],
   "source": [
    "# # Resulting parameters from the above code:\n",
    "# g = 0.01\n",
    "# c = 2.1\n",
    "# seed = 100\n",
    "\n",
    "# set.seed(seed)\n",
    "# # train_dat = list(base_dtm_train, \n",
    "# #                  base_dtm_tfidf_train, \n",
    "# #                  base_dtm_weighted_train,\n",
    "# #                  base_dtm_tfidf_weighted_train)\n",
    "# # test_dat = base_dtm_test\n",
    "\n",
    "# # run_params = data.frame(train_dat = train_dat,\n",
    "# #                         test_dat = rep(list(base_dtm_test, \n",
    "                                        \n",
    "\n",
    "\n",
    "# print('Regular class distribution')\n",
    "# cat('Base DTM\\n')\n",
    "# run_svm(base_dtm_train, base_dtm_test, g, c)\n",
    "# cat('Resample DTM\\n')\n",
    "# run_svm(resample_dtm_train, resample_dtm_test, g, c)\n",
    "# cat('Bagging DTM\\n')\n",
    "# run_svm(bagging_dtm_train, bagging_dtm_test, g, c)\n",
    "\n",
    "# print('TFIDF weighting')\n",
    "# cat('Base DTM, custom TFIDF\\n')\n",
    "# run_svm(base_dtm_tfidf_train, base_dtm_tfidf_test, g, c)\n",
    "# cat('Reasmple DTM, custom TFIDF\\n')\n",
    "# run_svm(resample_dtm_tfidf_train, resample_dtm_tfidf_test, g, c)\n",
    "# cat('Bagging DTM, custom TFIDF\\n')\n",
    "# run_svm(bagging_dtm_tfidf_train, bagging_dtm_tfidf_test, g, c)"
   ]
  },
  {
   "cell_type": "code",
   "execution_count": null,
   "id": "90ba5ba0-2d0f-4a3c-ac4e-aface05a01f1",
   "metadata": {},
   "outputs": [],
   "source": [
    "# train_dat = base_dtm_train\n",
    "# test_dat = base_dtm_test\n",
    "# g = 0.01\n",
    "# c = 2.1\n",
    "\n",
    "# my_model = svm(class_col~., \n",
    "#                data = train_dat, \n",
    "#                type = 'C-classification',\n",
    "#                kernel = 'radial', \n",
    "#                cost = c, \n",
    "#                gamma = g)\n",
    "    \n",
    "# # Predict classes for training data\n",
    "# pred = predict(my_model, newdata = test_dat, type = 'class')\n",
    "\n",
    "# head(pred)\n",
    "                         \n",
    "\n",
    "#     # View the confusion matrix\n",
    "#     confmat = table(pred, test_dat$class_col)\n",
    "\n",
    "#     cat('Number of test good reviews: ', nrow(test_dat[test_dat$class_col == 'good',]), '\\n')\n",
    "#     cat('Number of test bad reviews: ', nrow(test_dat[test_dat$class_col == 'bad',]), '\\n\\n')\n",
    "#     cat('0: Bad Review (1-3 stars)\\n1: Good Review(4-5 stars)\\n\\n')\n",
    "#     cat('Columns indicate the class\\nRows indicate predictions\\n')\n",
    "T\n",
    "#     print(confmat)\n",
    "\n",
    "#     ml_stats_2x2(confmat)"
   ]
  },
  {
   "cell_type": "code",
   "execution_count": null,
   "id": "660ebbbe-61ed-4099-b0f2-6178134299ec",
   "metadata": {},
   "outputs": [],
   "source": []
  },
  {
   "cell_type": "code",
   "execution_count": null,
   "id": "528efde0-0a7e-496d-b7c8-8e2ef0d55c31",
   "metadata": {},
   "outputs": [],
   "source": []
  },
  {
   "cell_type": "code",
   "execution_count": null,
   "id": "e93fbc44-e661-4753-bb07-971bdb97274d",
   "metadata": {},
   "outputs": [],
   "source": []
  },
  {
   "cell_type": "code",
   "execution_count": null,
   "id": "36591ca2-d397-4289-98e0-e589472f7697",
   "metadata": {},
   "outputs": [],
   "source": [
    "# Create the training DTMs with custom TF-IDF weighting\n",
    "# class_col = 'class'\n",
    "# data_col = 'Combined'\n",
    "\n",
    "# stopWords = myStopWords\n",
    "# min_freq = 10\n",
    "# controls = list(weighting = weightTf, \n",
    "#                 bounds = list(global = c(min_freq, Inf)), \n",
    "#                 wordLengths = c(3, 15), \n",
    "#                 normalize = TRUE)\n",
    "# sparse_threshold = .99\n",
    "\n",
    "# print('Creating (custom TF-IDF) DTMs...')\n",
    "# cat('base_dtms\\n')\n",
    "# base_data_splitClass = split_df_byClass(base_data[[1]], class_col)\n",
    "# base_dtms_splitClass = splitData_build_dtm(base_data_splitClass, data_col = data_col, \n",
    "#                                            stopWords = stopWords, controls = controls)\n",
    "# cat('  good data: \\nNumber of docs: ', nrow(base_dtms_splitClass[[1]]), '\\nNumber of features: ', ncol(base_dtms_splitClass[[1]]), \n",
    "#     '\\n  bad data:\\nNumber of docs: ', nrow(base_dtms_splitClass[[2]]), '\\nNumber of features: ', ncol(base_dtms_splitClass[[2]]), '\\n')\n",
    "# goo\n",
    "# base_dtm_tfidf = custom_tfidf(base_dtms_splitClass[[1]], base_dtms_splitClass[[2]])\n",
    "# base_dtm_tfidf_train = rbind(data.frame(base_dtm_tfidf[[4]], class_col = rep('bad', nrow(base_dtm_tfidf[[4]]))),\n",
    "#                              data.frame(base_dtm_tfidf[[5]], class_col = rep('good', nrow(base_dtm_tfidf[[5]]))))\n",
    "# # base_dtm_tfidf_train = dtm_combiner(base_dtm_tfidf[[4]], rep('bad', nrow(base_dtm_tfidf[[4]])), \n",
    "# #                                     base_dtm_tfidf[[5]], rep('good', nrow(base_dtm_tfidf[[5]])))\n",
    "# base_dtm_tfidf_train = delete_sparse(base_dtm_tfidf_train, sparse_threshold)\n",
    "# base_dtm_tfidf_train = base_dtm_tfidf_train[sample(nrow(base_dtm_tfidf_train)),]\n",
    "# base_dtm_tfidf_train$class_col = as.factor(base_dtm_tfidf_train$class_col)\n",
    "# cat('  final training dtm: \\nNumber of docs: ', nrow(base_dtm_tfidf_train), '\\nNumber of features: ', ncol(base_dtm_tfidf_train) - 1, '\\n')\n",
    "# cat('COMPLETE\\n\\n')\n",
    "\n",
    "# cat('resample_dtms\\n')\n",
    "# resample_data_splitClass = split_df_byClass(resample_data[[1]], class_col)\n",
    "# resample_dtms_splitClass = splitData_build_dtm(resample_data_splitClass, data_col = data_col, \n",
    "#                                                stopWords = stopWords, controls = controls, sparse_threshold = sparse_threshold)\n",
    "# cat('  good data: \\nNumber of docs: ', nrow(resample_dtms_splitClass[[1]]), '\\nNumber of features: ', ncol(resample_dtms_splitClass[[1]]), \n",
    "#     '\\n  bad data:\\nNumber of docs: ', nrow(resample_dtms_splitClass[[2]]), '\\nNumber of features: ', ncol(resample_dtms_splitClass[[2]]), '\\n')\n",
    "# resample_dtm_tfidf = custom_tfidf(resample_dtms_splitClass[[1]], resample_dtms_splitClass[[2]])\n",
    "# resample_dtm_tfidf_train = dtm_combiner(resample_dtm_tfidf[[4]], rep('bad', nrow(resample_dtm_tfidf[[4]])), \n",
    "#                                         resample_dtm_tfidf[[5]], rep('good', nrow(resample_dtm_tfidf[[5]])))\n",
    "# resample_dtm_tfidf_train = delete_sparse(resample_dtm_tfidf_train, sparse_threshold)\n",
    "# resample_dtm_tfidf_train = resample_dtm_tfidf_train[sample(nrow(resample_dtm_tfidf_train)),]\n",
    "# resample_dtm_tfidf_train$class_col = as.factor(resample_dtm_tfidf_train$class_col)\n",
    "# cat('  final training dtm: \\nNumber of docs: ', nrow(resample_dtm_tfidf_train), '\\nNumber of features: ', ncol(resample_dtm_tfidf_train) - 1, '\\n')\n",
    "# cat('COMPLETE\\n\\n')\n",
    "\n",
    "# cat('bagging_dtms\\n')\n",
    "# bagging_data_splitClass = split_df_byClass(bagging_data[[1]], class_col)\n",
    "# bagging_dtms_splitClass = splitData_build_dtm(bagging_data_splitClass, data_col = data_col, \n",
    "#                                               stopWords = stopWords, controls = controls, sparse_threshold = sparse_threshold)\n",
    "# cat('  good data: \\nNumber of docs: ', nrow(bagging_dtms_splitClass[[1]]), '\\nNumber of features: ', ncol(bagging_dtms_splitClass[[1]]), \n",
    "#     '\\n  bad data:\\nNumber of docs: ', nrow(bagging_dtms_splitClass[[2]]), '\\nNumber of features: ', ncol(bagging_dtms_splitClass[[2]]), '\\n')\n",
    "# bagging_dtm_tfidf = custom_tfidf(bagging_dtms_splitClass[[1]], bagging_dtms_splitClass[[2]])\n",
    "# bagging_dtm_tfidf_train = dtm_combiner(bagging_dtm_tfidf[[4]], rep('bad', nrow(bagging_dtm_tfidf[[4]])), \n",
    "#                                     bagging_dtm_tfidf[[5]], rep('good', nrow(bagging_dtm_tfidf[[5]])))\n",
    "# bagging_dtm_tfidf_train = delete_sparse(bagging_dtm_tfidf_train, sparse_threshold)\n",
    "# bagging_dtm_tfidf_train = bagging_dtm_tfidf_train[sample(nrow(bagging_dtm_tfidf_train)),]\n",
    "# bagging_dtm_tfidf_train$class_col = as.factor(bagging_dtm_tfidf_train$class_col)\n",
    "# cat('  final training dtm: \\nNumber of docs: ', nrow(bagging_dtm_tfidf_train), '\\nNumber of features: ', ncol(bagging_dtm_tfidf_train) - 1, '\\n')\n",
    "# cat('COMPLETE\\n\\n')\n",
    "\n"
   ]
  }
 ],
 "metadata": {
  "kernelspec": {
   "display_name": "R",
   "language": "R",
   "name": "ir"
  },
  "language_info": {
   "codemirror_mode": "r",
   "file_extension": ".r",
   "mimetype": "text/x-r-source",
   "name": "R",
   "pygments_lexer": "r",
   "version": "3.6.1"
  }
 },
 "nbformat": 4,
 "nbformat_minor": 5
}
